{
  "nbformat": 4,
  "nbformat_minor": 0,
  "metadata": {
    "colab": {
      "name": "2746958_Homework1.ipynb",
      "version": "0.3.2",
      "provenance": [],
      "collapsed_sections": []
    },
    "kernelspec": {
      "name": "python3",
      "display_name": "Python 3"
    }
  },
  "cells": [
    {
      "metadata": {
        "id": "D71cWIuaLjsq",
        "colab_type": "code",
        "colab": {}
      },
      "cell_type": "code",
      "source": [
        "# Load scikit's linear_model\n",
        "from sklearn import linear_model\n",
        "\n",
        "# Load pandas\n",
        "import pandas as pd\n",
        "\n",
        "# Load numpy\n",
        "import numpy as np\n",
        "\n",
        "#Load read_excel\n",
        "from pandas import read_excel\n",
        "\n",
        "# Set random seed\n",
        "np.random.seed(123)\n",
        "\n",
        "#Load seaborn\n",
        "import seaborn as sns\n",
        "\n",
        "#Load matplotlib\n",
        "import matplotlib.pyplot as plt\n",
        "\n",
        "#Load sklearn\n",
        "from sklearn.preprocessing import MinMaxScaler"
      ],
      "execution_count": 0,
      "outputs": []
    },
    {
      "metadata": {
        "id": "tPbCE10ro_1s",
        "colab_type": "text"
      },
      "cell_type": "markdown",
      "source": [
        "#Load Dataset"
      ]
    },
    {
      "metadata": {
        "id": "DmJbF8YLpGyE",
        "colab_type": "code",
        "outputId": "061ab358-daae-42bc-abac-dee6d6746be1",
        "colab": {
          "base_uri": "https://localhost:8080/",
          "height": 323
        }
      },
      "cell_type": "code",
      "source": [
        "url = \"https://drive.google.com/uc?export=download&id=1cyrnQt8IF2dtdh1sToncm21i2zdVPdMd\"\n",
        "data = pd.read_excel(url,header=0)\n",
        "print(data.dtypes)"
      ],
      "execution_count": 244,
      "outputs": [
        {
          "output_type": "stream",
          "text": [
            "Month               object\n",
            "Q0                 float64\n",
            "Q1                 float64\n",
            "Q2pt5              float64\n",
            "Q5                 float64\n",
            "Q10                float64\n",
            "Q25                float64\n",
            "Q50                float64\n",
            "Q75                float64\n",
            "Q90                float64\n",
            "Q95                float64\n",
            "Q97pt5             float64\n",
            "Q99                float64\n",
            "Q100               float64\n",
            "STNAME              object\n",
            "CTYNAME             object\n",
            "POPESTIMATE2015      int64\n",
            "dtype: object\n"
          ],
          "name": "stdout"
        }
      ]
    },
    {
      "metadata": {
        "id": "YhLC1ATwkMy0",
        "colab_type": "text"
      },
      "cell_type": "markdown",
      "source": [
        "#Summary Statistics"
      ]
    },
    {
      "metadata": {
        "id": "BxHScpbtkNSF",
        "colab_type": "code",
        "outputId": "daa71f53-0671-4fcf-c8cd-c67b1fb57405",
        "colab": {
          "base_uri": "https://localhost:8080/",
          "height": 317
        }
      },
      "cell_type": "code",
      "source": [
        "#displaying summary statistics for the dataset\n",
        "data.describe()"
      ],
      "execution_count": 220,
      "outputs": [
        {
          "output_type": "execute_result",
          "data": {
            "text/html": [
              "<div>\n",
              "<style scoped>\n",
              "    .dataframe tbody tr th:only-of-type {\n",
              "        vertical-align: middle;\n",
              "    }\n",
              "\n",
              "    .dataframe tbody tr th {\n",
              "        vertical-align: top;\n",
              "    }\n",
              "\n",
              "    .dataframe thead th {\n",
              "        text-align: right;\n",
              "    }\n",
              "</style>\n",
              "<table border=\"1\" class=\"dataframe\">\n",
              "  <thead>\n",
              "    <tr style=\"text-align: right;\">\n",
              "      <th></th>\n",
              "      <th>Q0</th>\n",
              "      <th>Q1</th>\n",
              "      <th>Q2pt5</th>\n",
              "      <th>Q5</th>\n",
              "      <th>Q10</th>\n",
              "      <th>Q25</th>\n",
              "      <th>Q50</th>\n",
              "      <th>Q75</th>\n",
              "      <th>Q90</th>\n",
              "      <th>Q95</th>\n",
              "      <th>Q97pt5</th>\n",
              "      <th>Q99</th>\n",
              "      <th>Q100</th>\n",
              "      <th>POPESTIMATE2015</th>\n",
              "    </tr>\n",
              "  </thead>\n",
              "  <tbody>\n",
              "    <tr>\n",
              "      <th>count</th>\n",
              "      <td>2500.000000</td>\n",
              "      <td>2500.000000</td>\n",
              "      <td>2500.000000</td>\n",
              "      <td>2500.000000</td>\n",
              "      <td>2500.000000</td>\n",
              "      <td>2500.000000</td>\n",
              "      <td>2500.000000</td>\n",
              "      <td>2500.000000</td>\n",
              "      <td>2500.000000</td>\n",
              "      <td>2500.000000</td>\n",
              "      <td>2500.000000</td>\n",
              "      <td>2500.000000</td>\n",
              "      <td>2500.000000</td>\n",
              "      <td>2.500000e+03</td>\n",
              "    </tr>\n",
              "    <tr>\n",
              "      <th>mean</th>\n",
              "      <td>-0.002188</td>\n",
              "      <td>0.038799</td>\n",
              "      <td>0.053699</td>\n",
              "      <td>0.070809</td>\n",
              "      <td>0.097120</td>\n",
              "      <td>0.174372</td>\n",
              "      <td>0.351830</td>\n",
              "      <td>0.783197</td>\n",
              "      <td>1.777998</td>\n",
              "      <td>2.982530</td>\n",
              "      <td>4.716755</td>\n",
              "      <td>8.087240</td>\n",
              "      <td>39.663584</td>\n",
              "      <td>1.058292e+05</td>\n",
              "    </tr>\n",
              "    <tr>\n",
              "      <th>std</th>\n",
              "      <td>0.141941</td>\n",
              "      <td>0.171293</td>\n",
              "      <td>0.230851</td>\n",
              "      <td>0.304831</td>\n",
              "      <td>0.425011</td>\n",
              "      <td>0.825364</td>\n",
              "      <td>1.685318</td>\n",
              "      <td>3.355028</td>\n",
              "      <td>6.304048</td>\n",
              "      <td>8.998663</td>\n",
              "      <td>12.084223</td>\n",
              "      <td>17.355886</td>\n",
              "      <td>98.100495</td>\n",
              "      <td>3.532298e+05</td>\n",
              "    </tr>\n",
              "    <tr>\n",
              "      <th>min</th>\n",
              "      <td>-0.580000</td>\n",
              "      <td>-0.280000</td>\n",
              "      <td>-0.180000</td>\n",
              "      <td>-0.120000</td>\n",
              "      <td>-0.070000</td>\n",
              "      <td>-0.020000</td>\n",
              "      <td>0.000000</td>\n",
              "      <td>0.000000</td>\n",
              "      <td>0.000000</td>\n",
              "      <td>0.000000</td>\n",
              "      <td>0.000000</td>\n",
              "      <td>0.000000</td>\n",
              "      <td>0.000000</td>\n",
              "      <td>8.800000e+01</td>\n",
              "    </tr>\n",
              "    <tr>\n",
              "      <th>25%</th>\n",
              "      <td>-0.010000</td>\n",
              "      <td>0.000000</td>\n",
              "      <td>0.000000</td>\n",
              "      <td>0.000000</td>\n",
              "      <td>0.000000</td>\n",
              "      <td>0.000000</td>\n",
              "      <td>0.000000</td>\n",
              "      <td>0.000000</td>\n",
              "      <td>0.000000</td>\n",
              "      <td>0.000000</td>\n",
              "      <td>0.000000</td>\n",
              "      <td>0.000000</td>\n",
              "      <td>0.000000</td>\n",
              "      <td>1.088100e+04</td>\n",
              "    </tr>\n",
              "    <tr>\n",
              "      <th>50%</th>\n",
              "      <td>0.000000</td>\n",
              "      <td>0.000000</td>\n",
              "      <td>0.000000</td>\n",
              "      <td>0.000000</td>\n",
              "      <td>0.000000</td>\n",
              "      <td>0.000000</td>\n",
              "      <td>0.000000</td>\n",
              "      <td>0.000000</td>\n",
              "      <td>0.000000</td>\n",
              "      <td>0.000000</td>\n",
              "      <td>0.000000</td>\n",
              "      <td>0.165000</td>\n",
              "      <td>0.585000</td>\n",
              "      <td>2.575600e+04</td>\n",
              "    </tr>\n",
              "    <tr>\n",
              "      <th>75%</th>\n",
              "      <td>0.000000</td>\n",
              "      <td>0.030000</td>\n",
              "      <td>0.050000</td>\n",
              "      <td>0.070000</td>\n",
              "      <td>0.090000</td>\n",
              "      <td>0.140000</td>\n",
              "      <td>0.230000</td>\n",
              "      <td>0.420000</td>\n",
              "      <td>0.860000</td>\n",
              "      <td>1.583250</td>\n",
              "      <td>3.291500</td>\n",
              "      <td>8.595625</td>\n",
              "      <td>50.370000</td>\n",
              "      <td>7.043000e+04</td>\n",
              "    </tr>\n",
              "    <tr>\n",
              "      <th>max</th>\n",
              "      <td>2.610000</td>\n",
              "      <td>2.773600</td>\n",
              "      <td>6.000000</td>\n",
              "      <td>7.636000</td>\n",
              "      <td>10.530000</td>\n",
              "      <td>17.709999</td>\n",
              "      <td>32.000000</td>\n",
              "      <td>50.889999</td>\n",
              "      <td>74.743997</td>\n",
              "      <td>97.989998</td>\n",
              "      <td>122.191002</td>\n",
              "      <td>191.830002</td>\n",
              "      <td>2209.040039</td>\n",
              "      <td>1.012325e+07</td>\n",
              "    </tr>\n",
              "  </tbody>\n",
              "</table>\n",
              "</div>"
            ],
            "text/plain": [
              "                Q0           Q1        Q2pt5           Q5          Q10  \\\n",
              "count  2500.000000  2500.000000  2500.000000  2500.000000  2500.000000   \n",
              "mean     -0.002188     0.038799     0.053699     0.070809     0.097120   \n",
              "std       0.141941     0.171293     0.230851     0.304831     0.425011   \n",
              "min      -0.580000    -0.280000    -0.180000    -0.120000    -0.070000   \n",
              "25%      -0.010000     0.000000     0.000000     0.000000     0.000000   \n",
              "50%       0.000000     0.000000     0.000000     0.000000     0.000000   \n",
              "75%       0.000000     0.030000     0.050000     0.070000     0.090000   \n",
              "max       2.610000     2.773600     6.000000     7.636000    10.530000   \n",
              "\n",
              "               Q25          Q50          Q75          Q90          Q95  \\\n",
              "count  2500.000000  2500.000000  2500.000000  2500.000000  2500.000000   \n",
              "mean      0.174372     0.351830     0.783197     1.777998     2.982530   \n",
              "std       0.825364     1.685318     3.355028     6.304048     8.998663   \n",
              "min      -0.020000     0.000000     0.000000     0.000000     0.000000   \n",
              "25%       0.000000     0.000000     0.000000     0.000000     0.000000   \n",
              "50%       0.000000     0.000000     0.000000     0.000000     0.000000   \n",
              "75%       0.140000     0.230000     0.420000     0.860000     1.583250   \n",
              "max      17.709999    32.000000    50.889999    74.743997    97.989998   \n",
              "\n",
              "            Q97pt5          Q99         Q100  POPESTIMATE2015  \n",
              "count  2500.000000  2500.000000  2500.000000     2.500000e+03  \n",
              "mean      4.716755     8.087240    39.663584     1.058292e+05  \n",
              "std      12.084223    17.355886    98.100495     3.532298e+05  \n",
              "min       0.000000     0.000000     0.000000     8.800000e+01  \n",
              "25%       0.000000     0.000000     0.000000     1.088100e+04  \n",
              "50%       0.000000     0.165000     0.585000     2.575600e+04  \n",
              "75%       3.291500     8.595625    50.370000     7.043000e+04  \n",
              "max     122.191002   191.830002  2209.040039     1.012325e+07  "
            ]
          },
          "metadata": {
            "tags": []
          },
          "execution_count": 220
        }
      ]
    },
    {
      "metadata": {
        "id": "IihHPhm-fB52",
        "colab_type": "text"
      },
      "cell_type": "markdown",
      "source": [
        "The minimum and maximum values of percentiles have a very wide range as can be seen here. The minimum value is 0 and the maximum value goes up to 2209. "
      ]
    },
    {
      "metadata": {
        "id": "gLT_z_cwanr0",
        "colab_type": "text"
      },
      "cell_type": "markdown",
      "source": [
        "#Check for Missing Data"
      ]
    },
    {
      "metadata": {
        "id": "2Kev3lSWCPFa",
        "colab_type": "code",
        "outputId": "56a3b0b8-67a9-404b-885a-29894cb2b646",
        "colab": {
          "base_uri": "https://localhost:8080/",
          "height": 408
        }
      },
      "cell_type": "code",
      "source": [
        "#checking for null values in the dataset\n",
        "data.isnull().sum()\n",
        "print(data.info())"
      ],
      "execution_count": 221,
      "outputs": [
        {
          "output_type": "stream",
          "text": [
            "<class 'pandas.core.frame.DataFrame'>\n",
            "RangeIndex: 2500 entries, 0 to 2499\n",
            "Data columns (total 17 columns):\n",
            "Month              2500 non-null object\n",
            "Q0                 2500 non-null float64\n",
            "Q1                 2500 non-null float64\n",
            "Q2pt5              2500 non-null float64\n",
            "Q5                 2500 non-null float64\n",
            "Q10                2500 non-null float64\n",
            "Q25                2500 non-null float64\n",
            "Q50                2500 non-null float64\n",
            "Q75                2500 non-null float64\n",
            "Q90                2500 non-null float64\n",
            "Q95                2500 non-null float64\n",
            "Q97pt5             2500 non-null float64\n",
            "Q99                2500 non-null float64\n",
            "Q100               2500 non-null float64\n",
            "STNAME             2500 non-null object\n",
            "CTYNAME            2500 non-null object\n",
            "POPESTIMATE2015    2500 non-null int64\n",
            "dtypes: float64(13), int64(1), object(3)\n",
            "memory usage: 332.1+ KB\n",
            "None\n"
          ],
          "name": "stdout"
        }
      ]
    },
    {
      "metadata": {
        "id": "LW8XUS8LbPZL",
        "colab_type": "text"
      },
      "cell_type": "markdown",
      "source": [
        "There are no missing values in the dataset."
      ]
    },
    {
      "metadata": {
        "id": "LxjU8NDhQK8t",
        "colab_type": "text"
      },
      "cell_type": "markdown",
      "source": [
        "#Handling outliers"
      ]
    },
    {
      "metadata": {
        "id": "NTAsl-bIQM93",
        "colab_type": "code",
        "colab": {}
      },
      "cell_type": "code",
      "source": [
        "#fetching all numeric values from the dataset\n",
        "percentile = data._get_numeric_data()\n",
        "#converting the values to 0 if percentiles are negative\n",
        "percentile[percentile<0] = 0"
      ],
      "execution_count": 0,
      "outputs": []
    },
    {
      "metadata": {
        "id": "iwyAgoTvrpNY",
        "colab_type": "text"
      },
      "cell_type": "markdown",
      "source": [
        "It does not make sense to have negative values for brightness. This could be due to issues with the satellites sensors or background noise. Hence we are converting the values to zero."
      ]
    },
    {
      "metadata": {
        "id": "Z7BOPoTrEBse",
        "colab_type": "text"
      },
      "cell_type": "markdown",
      "source": [
        "#Box Plot"
      ]
    },
    {
      "metadata": {
        "id": "SNK4zDW8EE2M",
        "colab_type": "code",
        "outputId": "ccd8f976-790a-4e34-e133-0517648b7522",
        "colab": {
          "base_uri": "https://localhost:8080/",
          "height": 381
        }
      },
      "cell_type": "code",
      "source": [
        "box_plot =sns.boxplot(data = data, orient='V',palette = \"Set1\" , linewidth = 1.5)\n",
        "box_plot.set_yscale('log')"
      ],
      "execution_count": 223,
      "outputs": [
        {
          "output_type": "stream",
          "text": [
            "/usr/local/lib/python3.6/dist-packages/seaborn/categorical.py:454: FutureWarning: remove_na is deprecated and is a private function. Do not use.\n",
            "  box_data = remove_na(group_data)\n"
          ],
          "name": "stderr"
        },
        {
          "output_type": "display_data",
          "data": {
            "image/png": "[encoded data removed]",
            "text/plain": [
              "<Figure size 576x396 with 1 Axes>"
            ]
          },
          "metadata": {
            "tags": []
          }
        }
      ]
    },
    {
      "metadata": {
        "id": "461eWFIvuXA3",
        "colab_type": "text"
      },
      "cell_type": "markdown",
      "source": [
        "The interquartile range gradually increases for the percentiles, this indicates a growing variability. Q100 especially has very high variability ( [39, 2290] with standard deviation of 98) The data is not symmetric and hence not normal."
      ]
    },
    {
      "metadata": {
        "id": "JuBkdNYIBJhp",
        "colab_type": "text"
      },
      "cell_type": "markdown",
      "source": [
        "#Correlation plot"
      ]
    },
    {
      "metadata": {
        "id": "ieXzBRHnBI-f",
        "colab_type": "code",
        "colab": {
          "base_uri": "https://localhost:8080/",
          "height": 638
        },
        "outputId": "bc0edb17-9b1d-4044-cbbb-97abe5decd0d"
      },
      "cell_type": "code",
      "source": [
        "from string import ascii_letters\n",
        "import numpy as np\n",
        "import pandas as pd\n",
        "import seaborn as sns\n",
        "import matplotlib.pyplot as plt\n",
        "\n",
        "sns.set(style=\"white\")\n",
        "\n",
        "# Compute the correlation matrix\n",
        "corr = data.corr()\n",
        "\n",
        "# Generate a mask for the upper triangle\n",
        "mask = np.zeros_like(corr, dtype=np.bool)\n",
        "mask[np.triu_indices_from(mask)] = True\n",
        "\n",
        "# Set up the matplotlib figure\n",
        "f, ax = plt.subplots(figsize=(11, 9))\n",
        "\n",
        "# Generate a custom diverging colormap\n",
        "cmap = sns.diverging_palette(220, 10, as_cmap=True)\n",
        "\n",
        "# Draw the heatmap with the mask and correct aspect ratio\n",
        "sns.heatmap(corr, mask=mask, cmap=cmap, vmax=.5, center=0,square=True, linewidths=.5, cbar_kws={\"shrink\": .5})"
      ],
      "execution_count": 224,
      "outputs": [
        {
          "output_type": "execute_result",
          "data": {
            "text/plain": [
              "<matplotlib.axes._subplots.AxesSubplot at 0x7f7ad1055f98>"
            ]
          },
          "metadata": {
            "tags": []
          },
          "execution_count": 224
        },
        {
          "output_type": "display_data",
          "data": {
            "image/png": "[encoded data removed]",
            "text/plain": [
              "<Figure size 792x648 with 2 Axes>"
            ]
          },
          "metadata": {
            "tags": []
          }
        }
      ]
    },
    {
      "metadata": {
        "id": "rtfHsabFaIwk",
        "colab_type": "text"
      },
      "cell_type": "markdown",
      "source": [
        "There seems to be a mild correlation between population estimate and brightness lying between 75 to 99th percentile. However, Q100 seems to be weakly correlated with POPESTIMATE. "
      ]
    },
    {
      "metadata": {
        "id": "_Fim0KS8Hu2O",
        "colab_type": "text"
      },
      "cell_type": "markdown",
      "source": [
        "#Histograms"
      ]
    },
    {
      "metadata": {
        "id": "xT34EYqKH3qm",
        "colab_type": "code",
        "colab": {
          "base_uri": "https://localhost:8080/",
          "height": 1657
        },
        "outputId": "609fac5f-1b53-4b14-8e85-e7eb362b00c2"
      },
      "cell_type": "code",
      "source": [
        "df_num = data.select_dtypes(include = ['float64','int64'])\n",
        "print(df_num.head())\n",
        "df_num.hist(figsize=(16, 20), bins=50, xlabelsize=8, ylabelsize=8)"
      ],
      "execution_count": 225,
      "outputs": [
        {
          "output_type": "stream",
          "text": [
            "     Q0    Q1  Q2pt5    Q5   Q10   Q25   Q50   Q75   Q90    Q95    Q97pt5  \\\n",
            "0  0.00  0.00   0.00  0.00  0.00  0.00  0.00  0.00  0.00  0.000   0.00000   \n",
            "1  0.02  0.08   0.09  0.11  0.13  0.18  0.30  0.72  1.89  4.110  10.37625   \n",
            "2  0.10  0.15   0.16  0.18  0.20  0.23  0.30  0.46  0.82  1.363   3.11650   \n",
            "3  0.00  0.03   0.04  0.05  0.07  0.12  0.21  0.47  0.92  1.500   2.93425   \n",
            "4  0.00  0.00   0.00  0.00  0.00  0.00  0.00  0.00  0.00  0.000   0.00000   \n",
            "\n",
            "       Q99        Q100  POPESTIMATE2015  \n",
            "0   0.0000    0.000000            72498  \n",
            "1  18.9790   95.500000            58847  \n",
            "2   7.0808   42.669998            21186  \n",
            "3   8.3137  203.500000             6815  \n",
            "4   0.0000    0.000000             9227  \n"
          ],
          "name": "stdout"
        },
        {
          "output_type": "execute_result",
          "data": {
            "text/plain": [
              "array([[<matplotlib.axes._subplots.AxesSubplot object at 0x7f7ad0ec8b00>,\n",
              "        <matplotlib.axes._subplots.AxesSubplot object at 0x7f7ad1007978>,\n",
              "        <matplotlib.axes._subplots.AxesSubplot object at 0x7f7ad0fca390>,\n",
              "        <matplotlib.axes._subplots.AxesSubplot object at 0x7f7acfdabbe0>],\n",
              "       [<matplotlib.axes._subplots.AxesSubplot object at 0x7f7acffd7278>,\n",
              "        <matplotlib.axes._subplots.AxesSubplot object at 0x7f7acfffb8d0>,\n",
              "        <matplotlib.axes._subplots.AxesSubplot object at 0x7f7acfff9f28>,\n",
              "        <matplotlib.axes._subplots.AxesSubplot object at 0x7f7acfd115f8>],\n",
              "       [<matplotlib.axes._subplots.AxesSubplot object at 0x7f7acfd11630>,\n",
              "        <matplotlib.axes._subplots.AxesSubplot object at 0x7f7ad0581e10>,\n",
              "        <matplotlib.axes._subplots.AxesSubplot object at 0x7f7ad0532d68>,\n",
              "        <matplotlib.axes._subplots.AxesSubplot object at 0x7f7ad0a11400>],\n",
              "       [<matplotlib.axes._subplots.AxesSubplot object at 0x7f7ad13e1198>,\n",
              "        <matplotlib.axes._subplots.AxesSubplot object at 0x7f7ad11e3b00>,\n",
              "        <matplotlib.axes._subplots.AxesSubplot object at 0x7f7ad05e24a8>,\n",
              "        <matplotlib.axes._subplots.AxesSubplot object at 0x7f7ad0527e10>]],\n",
              "      dtype=object)"
            ]
          },
          "metadata": {
            "tags": []
          },
          "execution_count": 225
        },
        {
          "output_type": "display_data",
          "data": {
            "image/png": "[encoded data removed]",
            "text/plain": [
              "<Figure size 1152x1440 with 16 Axes>"
            ]
          },
          "metadata": {
            "tags": []
          }
        }
      ]
    },
    {
      "metadata": {
        "id": "M9Q8Eec5KIJl",
        "colab_type": "text"
      },
      "cell_type": "markdown",
      "source": [
        "#Heat Map"
      ]
    },
    {
      "metadata": {
        "id": "WEcbt_0WKJoS",
        "colab_type": "code",
        "colab": {
          "base_uri": "https://localhost:8080/",
          "height": 588
        },
        "outputId": "d96bcfcc-7fb2-40e1-86eb-a92f4127b8cb"
      },
      "cell_type": "code",
      "source": [
        "corr = df_num.drop('POPESTIMATE2015', axis=1).corr() \n",
        "plt.figure(figsize=(12, 10))\n",
        "sns.heatmap(corr[(corr >= 0.5) | (corr <= -0.4)], cmap='viridis', vmax=1.0, vmin=-1.0, linewidths=0.1,annot=True, annot_kws={\"size\": 8}, square=True);"
      ],
      "execution_count": 226,
      "outputs": [
        {
          "output_type": "display_data",
          "data": {
            "image/png": "[encoded data removed]",
            "text/plain": [
              "<Figure size 864x720 with 2 Axes>"
            ]
          },
          "metadata": {
            "tags": []
          }
        }
      ]
    },
    {
      "metadata": {
        "id": "XqTFJjk4JA54",
        "colab_type": "text"
      },
      "cell_type": "markdown",
      "source": [
        "#Scatter plot"
      ]
    },
    {
      "metadata": {
        "id": "5qn3ff-9JCYs",
        "colab_type": "code",
        "colab": {
          "base_uri": "https://localhost:8080/",
          "height": 542
        },
        "outputId": "f81412e1-7d96-409b-99fd-a93ad3b779b2"
      },
      "cell_type": "code",
      "source": [
        "for i in range(0, len(df_num.columns), 5):\n",
        "    sns.pairplot(data=df_num,x_vars=df_num.columns[i:i+5],y_vars=['POPESTIMATE2015'])"
      ],
      "execution_count": 227,
      "outputs": [
        {
          "output_type": "display_data",
          "data": {
            "image/png": "[encoded data removed]",
            "text/plain": [
              "<Figure size 900x180 with 5 Axes>"
            ]
          },
          "metadata": {
            "tags": []
          }
        },
        {
          "output_type": "display_data",
          "data": {
            "image/png": "[encoded data removed]",
            "text/plain": [
              "<Figure size 900x180 with 5 Axes>"
            ]
          },
          "metadata": {
            "tags": []
          }
        },
        {
          "output_type": "display_data",
          "data": {
            "image/png": "[encoded data removed]",
            "text/plain": [
              "<Figure size 720x180 with 4 Axes>"
            ]
          },
          "metadata": {
            "tags": []
          }
        }
      ]
    },
    {
      "metadata": {
        "id": "TPbYz0Ipbjl3",
        "colab_type": "text"
      },
      "cell_type": "markdown",
      "source": [
        "#Scaling the dataset"
      ]
    },
    {
      "metadata": {
        "id": "E49664Yo2gVP",
        "colab_type": "code",
        "outputId": "a433bbb6-ff0c-44f2-951f-d9ee47c5fc90",
        "colab": {
          "base_uri": "https://localhost:8080/",
          "height": 238
        }
      },
      "cell_type": "code",
      "source": [
        "#subsetting dataset to retrive the percentile columns\n",
        "data_scaled = data.iloc[:,1:14]\n",
        "#initializing minmaxscaler instance\n",
        "scaler = MinMaxScaler()\n",
        "#fitting and transforming the scaler on the scaled data\n",
        "scaled_data = scaler.fit_transform(data_scaled)\n",
        "#creating a dataframe of scaled data\n",
        "scaled_data= pd.DataFrame(scaled_data, index = data_scaled.index , columns = data_scaled.columns)\n",
        "print(scaled_data.head())"
      ],
      "execution_count": 228,
      "outputs": [
        {
          "output_type": "stream",
          "text": [
            "         Q0        Q1     Q2pt5        Q5       Q10       Q25       Q50  \\\n",
            "0  0.000000  0.000000  0.000000  0.000000  0.000000  0.000000  0.000000   \n",
            "1  0.007663  0.028843  0.015000  0.014405  0.012346  0.010164  0.009375   \n",
            "2  0.038314  0.054081  0.026667  0.023573  0.018993  0.012987  0.009375   \n",
            "3  0.000000  0.010816  0.006667  0.006548  0.006648  0.006776  0.006562   \n",
            "4  0.000000  0.000000  0.000000  0.000000  0.000000  0.000000  0.000000   \n",
            "\n",
            "        Q75       Q90       Q95    Q97pt5       Q99      Q100  \n",
            "0  0.000000  0.000000  0.000000  0.000000  0.000000  0.000000  \n",
            "1  0.014148  0.025286  0.041943  0.084918  0.098937  0.043231  \n",
            "2  0.009039  0.010971  0.013910  0.025505  0.036912  0.019316  \n",
            "3  0.009236  0.012309  0.015308  0.024014  0.043339  0.092121  \n",
            "4  0.000000  0.000000  0.000000  0.000000  0.000000  0.000000  \n"
          ],
          "name": "stdout"
        }
      ]
    },
    {
      "metadata": {
        "id": "l1lQ9IbSboJ1",
        "colab_type": "text"
      },
      "cell_type": "markdown",
      "source": [
        "The percentiles in the dataset have a very wide range. To ensure that features with high values aren't weighted more by the algorithms, we are scaling the attributes. It also enables easier interpretation of results.\n",
        "The Min-Max scaling approach has been used here to bring values between 0 and 1. "
      ]
    },
    {
      "metadata": {
        "id": "yjzjmIbdr3mz",
        "colab_type": "code",
        "colab": {}
      },
      "cell_type": "code",
      "source": [
        "#Storing the target variable - POPESTIMATE2015 in a dataframe\n",
        "target = pd.DataFrame(data.POPESTIMATE2015, index = data.index )"
      ],
      "execution_count": 0,
      "outputs": []
    },
    {
      "metadata": {
        "id": "cNxY4woAszrz",
        "colab_type": "code",
        "colab": {
          "base_uri": "https://localhost:8080/",
          "height": 1969
        },
        "outputId": "7e790bbf-4712-4491-839c-d485742ffbbe"
      },
      "cell_type": "code",
      "source": [
        "data_new = pd.DataFrame()\n",
        "\n",
        "#appending popestimate to the scaled dataset\n",
        "data_new = scaled_data\n",
        "data_new['POPESTIMATE2015'] = target\n",
        "\n",
        "data_new"
      ],
      "execution_count": 230,
      "outputs": [
        {
          "output_type": "execute_result",
          "data": {
            "text/html": [
              "<div>\n",
              "<style scoped>\n",
              "    .dataframe tbody tr th:only-of-type {\n",
              "        vertical-align: middle;\n",
              "    }\n",
              "\n",
              "    .dataframe tbody tr th {\n",
              "        vertical-align: top;\n",
              "    }\n",
              "\n",
              "    .dataframe thead th {\n",
              "        text-align: right;\n",
              "    }\n",
              "</style>\n",
              "<table border=\"1\" class=\"dataframe\">\n",
              "  <thead>\n",
              "    <tr style=\"text-align: right;\">\n",
              "      <th></th>\n",
              "      <th>Q0</th>\n",
              "      <th>Q1</th>\n",
              "      <th>Q2pt5</th>\n",
              "      <th>Q5</th>\n",
              "      <th>Q10</th>\n",
              "      <th>Q25</th>\n",
              "      <th>Q50</th>\n",
              "      <th>Q75</th>\n",
              "      <th>Q90</th>\n",
              "      <th>Q95</th>\n",
              "      <th>Q97pt5</th>\n",
              "      <th>Q99</th>\n",
              "      <th>Q100</th>\n",
              "      <th>POPESTIMATE2015</th>\n",
              "    </tr>\n",
              "  </thead>\n",
              "  <tbody>\n",
              "    <tr>\n",
              "      <th>0</th>\n",
              "      <td>0.000000</td>\n",
              "      <td>0.000000</td>\n",
              "      <td>0.000000</td>\n",
              "      <td>0.000000</td>\n",
              "      <td>0.000000</td>\n",
              "      <td>0.000000</td>\n",
              "      <td>0.000000</td>\n",
              "      <td>0.000000</td>\n",
              "      <td>0.000000</td>\n",
              "      <td>0.000000</td>\n",
              "      <td>0.000000</td>\n",
              "      <td>0.000000</td>\n",
              "      <td>0.000000</td>\n",
              "      <td>72498</td>\n",
              "    </tr>\n",
              "    <tr>\n",
              "      <th>1</th>\n",
              "      <td>0.007663</td>\n",
              "      <td>0.028843</td>\n",
              "      <td>0.015000</td>\n",
              "      <td>0.014405</td>\n",
              "      <td>0.012346</td>\n",
              "      <td>0.010164</td>\n",
              "      <td>0.009375</td>\n",
              "      <td>0.014148</td>\n",
              "      <td>0.025286</td>\n",
              "      <td>0.041943</td>\n",
              "      <td>0.084918</td>\n",
              "      <td>0.098937</td>\n",
              "      <td>0.043231</td>\n",
              "      <td>58847</td>\n",
              "    </tr>\n",
              "    <tr>\n",
              "      <th>2</th>\n",
              "      <td>0.038314</td>\n",
              "      <td>0.054081</td>\n",
              "      <td>0.026667</td>\n",
              "      <td>0.023573</td>\n",
              "      <td>0.018993</td>\n",
              "      <td>0.012987</td>\n",
              "      <td>0.009375</td>\n",
              "      <td>0.009039</td>\n",
              "      <td>0.010971</td>\n",
              "      <td>0.013910</td>\n",
              "      <td>0.025505</td>\n",
              "      <td>0.036912</td>\n",
              "      <td>0.019316</td>\n",
              "      <td>21186</td>\n",
              "    </tr>\n",
              "    <tr>\n",
              "      <th>3</th>\n",
              "      <td>0.000000</td>\n",
              "      <td>0.010816</td>\n",
              "      <td>0.006667</td>\n",
              "      <td>0.006548</td>\n",
              "      <td>0.006648</td>\n",
              "      <td>0.006776</td>\n",
              "      <td>0.006562</td>\n",
              "      <td>0.009236</td>\n",
              "      <td>0.012309</td>\n",
              "      <td>0.015308</td>\n",
              "      <td>0.024014</td>\n",
              "      <td>0.043339</td>\n",
              "      <td>0.092121</td>\n",
              "      <td>6815</td>\n",
              "    </tr>\n",
              "    <tr>\n",
              "      <th>4</th>\n",
              "      <td>0.000000</td>\n",
              "      <td>0.000000</td>\n",
              "      <td>0.000000</td>\n",
              "      <td>0.000000</td>\n",
              "      <td>0.000000</td>\n",
              "      <td>0.000000</td>\n",
              "      <td>0.000000</td>\n",
              "      <td>0.000000</td>\n",
              "      <td>0.000000</td>\n",
              "      <td>0.000000</td>\n",
              "      <td>0.000000</td>\n",
              "      <td>0.000000</td>\n",
              "      <td>0.000000</td>\n",
              "      <td>9227</td>\n",
              "    </tr>\n",
              "    <tr>\n",
              "      <th>5</th>\n",
              "      <td>0.000000</td>\n",
              "      <td>0.000000</td>\n",
              "      <td>0.000000</td>\n",
              "      <td>0.000000</td>\n",
              "      <td>0.000000</td>\n",
              "      <td>0.000000</td>\n",
              "      <td>0.000000</td>\n",
              "      <td>0.000000</td>\n",
              "      <td>0.000000</td>\n",
              "      <td>0.000000</td>\n",
              "      <td>0.000000</td>\n",
              "      <td>0.000000</td>\n",
              "      <td>0.000000</td>\n",
              "      <td>10671</td>\n",
              "    </tr>\n",
              "    <tr>\n",
              "      <th>6</th>\n",
              "      <td>0.011494</td>\n",
              "      <td>0.032449</td>\n",
              "      <td>0.016667</td>\n",
              "      <td>0.015715</td>\n",
              "      <td>0.012346</td>\n",
              "      <td>0.009599</td>\n",
              "      <td>0.007812</td>\n",
              "      <td>0.008646</td>\n",
              "      <td>0.011238</td>\n",
              "      <td>0.017043</td>\n",
              "      <td>0.035518</td>\n",
              "      <td>0.069913</td>\n",
              "      <td>0.200979</td>\n",
              "      <td>48170</td>\n",
              "    </tr>\n",
              "    <tr>\n",
              "      <th>7</th>\n",
              "      <td>0.000000</td>\n",
              "      <td>0.000000</td>\n",
              "      <td>0.000000</td>\n",
              "      <td>0.007858</td>\n",
              "      <td>0.013295</td>\n",
              "      <td>0.017504</td>\n",
              "      <td>0.019375</td>\n",
              "      <td>0.025349</td>\n",
              "      <td>0.046291</td>\n",
              "      <td>0.083580</td>\n",
              "      <td>0.121449</td>\n",
              "      <td>0.153746</td>\n",
              "      <td>0.032000</td>\n",
              "      <td>67607</td>\n",
              "    </tr>\n",
              "    <tr>\n",
              "      <th>8</th>\n",
              "      <td>0.000000</td>\n",
              "      <td>0.000000</td>\n",
              "      <td>0.000000</td>\n",
              "      <td>0.000000</td>\n",
              "      <td>0.000000</td>\n",
              "      <td>0.000000</td>\n",
              "      <td>0.000000</td>\n",
              "      <td>0.000000</td>\n",
              "      <td>0.000000</td>\n",
              "      <td>0.000000</td>\n",
              "      <td>0.000000</td>\n",
              "      <td>0.000000</td>\n",
              "      <td>0.000000</td>\n",
              "      <td>42562</td>\n",
              "    </tr>\n",
              "    <tr>\n",
              "      <th>9</th>\n",
              "      <td>0.164751</td>\n",
              "      <td>0.252380</td>\n",
              "      <td>0.141667</td>\n",
              "      <td>0.150602</td>\n",
              "      <td>0.152896</td>\n",
              "      <td>0.173348</td>\n",
              "      <td>0.194219</td>\n",
              "      <td>0.388043</td>\n",
              "      <td>0.661123</td>\n",
              "      <td>0.680171</td>\n",
              "      <td>0.652309</td>\n",
              "      <td>0.490320</td>\n",
              "      <td>0.067513</td>\n",
              "      <td>239665</td>\n",
              "    </tr>\n",
              "    <tr>\n",
              "      <th>10</th>\n",
              "      <td>0.045977</td>\n",
              "      <td>0.061292</td>\n",
              "      <td>0.033333</td>\n",
              "      <td>0.028811</td>\n",
              "      <td>0.022792</td>\n",
              "      <td>0.017504</td>\n",
              "      <td>0.013438</td>\n",
              "      <td>0.013362</td>\n",
              "      <td>0.015252</td>\n",
              "      <td>0.020094</td>\n",
              "      <td>0.031187</td>\n",
              "      <td>0.048125</td>\n",
              "      <td>0.021928</td>\n",
              "      <td>17951</td>\n",
              "    </tr>\n",
              "    <tr>\n",
              "      <th>11</th>\n",
              "      <td>0.000000</td>\n",
              "      <td>0.000000</td>\n",
              "      <td>0.000000</td>\n",
              "      <td>0.000000</td>\n",
              "      <td>0.000000</td>\n",
              "      <td>0.000000</td>\n",
              "      <td>0.000000</td>\n",
              "      <td>0.000000</td>\n",
              "      <td>0.000000</td>\n",
              "      <td>0.000000</td>\n",
              "      <td>0.000000</td>\n",
              "      <td>0.000000</td>\n",
              "      <td>0.000000</td>\n",
              "      <td>25790</td>\n",
              "    </tr>\n",
              "    <tr>\n",
              "      <th>12</th>\n",
              "      <td>0.000000</td>\n",
              "      <td>0.000000</td>\n",
              "      <td>0.000000</td>\n",
              "      <td>0.000000</td>\n",
              "      <td>0.000000</td>\n",
              "      <td>0.000000</td>\n",
              "      <td>0.000000</td>\n",
              "      <td>0.000000</td>\n",
              "      <td>0.000000</td>\n",
              "      <td>0.000000</td>\n",
              "      <td>0.000000</td>\n",
              "      <td>0.000000</td>\n",
              "      <td>0.000000</td>\n",
              "      <td>20766</td>\n",
              "    </tr>\n",
              "    <tr>\n",
              "      <th>13</th>\n",
              "      <td>0.000000</td>\n",
              "      <td>0.018027</td>\n",
              "      <td>0.016667</td>\n",
              "      <td>0.018334</td>\n",
              "      <td>0.018993</td>\n",
              "      <td>0.018069</td>\n",
              "      <td>0.015625</td>\n",
              "      <td>0.017882</td>\n",
              "      <td>0.023012</td>\n",
              "      <td>0.035310</td>\n",
              "      <td>0.061367</td>\n",
              "      <td>0.092880</td>\n",
              "      <td>0.024526</td>\n",
              "      <td>68500</td>\n",
              "    </tr>\n",
              "    <tr>\n",
              "      <th>14</th>\n",
              "      <td>0.000000</td>\n",
              "      <td>0.003605</td>\n",
              "      <td>0.008333</td>\n",
              "      <td>0.011786</td>\n",
              "      <td>0.013295</td>\n",
              "      <td>0.012422</td>\n",
              "      <td>0.011875</td>\n",
              "      <td>0.014148</td>\n",
              "      <td>0.020309</td>\n",
              "      <td>0.027656</td>\n",
              "      <td>0.042450</td>\n",
              "      <td>0.047940</td>\n",
              "      <td>0.025391</td>\n",
              "      <td>45049</td>\n",
              "    </tr>\n",
              "    <tr>\n",
              "      <th>15</th>\n",
              "      <td>0.000000</td>\n",
              "      <td>0.014422</td>\n",
              "      <td>0.010000</td>\n",
              "      <td>0.009167</td>\n",
              "      <td>0.008547</td>\n",
              "      <td>0.007340</td>\n",
              "      <td>0.006875</td>\n",
              "      <td>0.008253</td>\n",
              "      <td>0.012041</td>\n",
              "      <td>0.018267</td>\n",
              "      <td>0.027958</td>\n",
              "      <td>0.040614</td>\n",
              "      <td>0.016401</td>\n",
              "      <td>30116</td>\n",
              "    </tr>\n",
              "    <tr>\n",
              "      <th>16</th>\n",
              "      <td>0.000000</td>\n",
              "      <td>0.000000</td>\n",
              "      <td>0.000000</td>\n",
              "      <td>0.000000</td>\n",
              "      <td>0.000000</td>\n",
              "      <td>0.000000</td>\n",
              "      <td>0.000000</td>\n",
              "      <td>0.000000</td>\n",
              "      <td>0.000000</td>\n",
              "      <td>0.000000</td>\n",
              "      <td>0.000000</td>\n",
              "      <td>0.000000</td>\n",
              "      <td>0.000000</td>\n",
              "      <td>4996</td>\n",
              "    </tr>\n",
              "    <tr>\n",
              "      <th>17</th>\n",
              "      <td>0.019157</td>\n",
              "      <td>0.039660</td>\n",
              "      <td>0.021667</td>\n",
              "      <td>0.019644</td>\n",
              "      <td>0.016144</td>\n",
              "      <td>0.012422</td>\n",
              "      <td>0.010000</td>\n",
              "      <td>0.010415</td>\n",
              "      <td>0.014048</td>\n",
              "      <td>0.019767</td>\n",
              "      <td>0.034782</td>\n",
              "      <td>0.054604</td>\n",
              "      <td>0.021711</td>\n",
              "      <td>22437</td>\n",
              "    </tr>\n",
              "    <tr>\n",
              "      <th>18</th>\n",
              "      <td>0.022989</td>\n",
              "      <td>0.054081</td>\n",
              "      <td>0.030000</td>\n",
              "      <td>0.026912</td>\n",
              "      <td>0.022792</td>\n",
              "      <td>0.016940</td>\n",
              "      <td>0.014687</td>\n",
              "      <td>0.019847</td>\n",
              "      <td>0.046158</td>\n",
              "      <td>0.079396</td>\n",
              "      <td>0.101317</td>\n",
              "      <td>0.106335</td>\n",
              "      <td>0.036088</td>\n",
              "      <td>46255</td>\n",
              "    </tr>\n",
              "    <tr>\n",
              "      <th>19</th>\n",
              "      <td>0.000000</td>\n",
              "      <td>0.000000</td>\n",
              "      <td>0.000000</td>\n",
              "      <td>0.000000</td>\n",
              "      <td>0.000000</td>\n",
              "      <td>0.000000</td>\n",
              "      <td>0.000000</td>\n",
              "      <td>0.000000</td>\n",
              "      <td>0.000000</td>\n",
              "      <td>0.000000</td>\n",
              "      <td>0.000000</td>\n",
              "      <td>0.000000</td>\n",
              "      <td>0.000000</td>\n",
              "      <td>30083</td>\n",
              "    </tr>\n",
              "    <tr>\n",
              "      <th>20</th>\n",
              "      <td>0.000000</td>\n",
              "      <td>0.000000</td>\n",
              "      <td>0.000000</td>\n",
              "      <td>0.000000</td>\n",
              "      <td>0.000000</td>\n",
              "      <td>0.000000</td>\n",
              "      <td>0.000000</td>\n",
              "      <td>0.000000</td>\n",
              "      <td>0.000000</td>\n",
              "      <td>0.000000</td>\n",
              "      <td>0.000000</td>\n",
              "      <td>0.000000</td>\n",
              "      <td>0.000000</td>\n",
              "      <td>2673</td>\n",
              "    </tr>\n",
              "    <tr>\n",
              "      <th>21</th>\n",
              "      <td>0.000000</td>\n",
              "      <td>0.000000</td>\n",
              "      <td>0.000000</td>\n",
              "      <td>0.000000</td>\n",
              "      <td>0.000000</td>\n",
              "      <td>0.000000</td>\n",
              "      <td>0.000000</td>\n",
              "      <td>0.001572</td>\n",
              "      <td>0.002274</td>\n",
              "      <td>0.002653</td>\n",
              "      <td>0.003192</td>\n",
              "      <td>0.004264</td>\n",
              "      <td>0.010797</td>\n",
              "      <td>11338</td>\n",
              "    </tr>\n",
              "    <tr>\n",
              "      <th>22</th>\n",
              "      <td>0.000000</td>\n",
              "      <td>0.000000</td>\n",
              "      <td>0.000000</td>\n",
              "      <td>0.000000</td>\n",
              "      <td>0.000000</td>\n",
              "      <td>0.000000</td>\n",
              "      <td>0.000000</td>\n",
              "      <td>0.000000</td>\n",
              "      <td>0.000000</td>\n",
              "      <td>0.000000</td>\n",
              "      <td>0.000000</td>\n",
              "      <td>0.000000</td>\n",
              "      <td>0.000000</td>\n",
              "      <td>80651</td>\n",
              "    </tr>\n",
              "    <tr>\n",
              "      <th>23</th>\n",
              "      <td>0.000000</td>\n",
              "      <td>0.000000</td>\n",
              "      <td>0.000000</td>\n",
              "      <td>0.000000</td>\n",
              "      <td>0.000000</td>\n",
              "      <td>0.000000</td>\n",
              "      <td>0.000000</td>\n",
              "      <td>0.000000</td>\n",
              "      <td>0.000000</td>\n",
              "      <td>0.000000</td>\n",
              "      <td>0.000000</td>\n",
              "      <td>0.000000</td>\n",
              "      <td>0.000000</td>\n",
              "      <td>18736</td>\n",
              "    </tr>\n",
              "    <tr>\n",
              "      <th>24</th>\n",
              "      <td>0.026820</td>\n",
              "      <td>0.043265</td>\n",
              "      <td>0.023333</td>\n",
              "      <td>0.020953</td>\n",
              "      <td>0.017094</td>\n",
              "      <td>0.012422</td>\n",
              "      <td>0.009062</td>\n",
              "      <td>0.008843</td>\n",
              "      <td>0.011105</td>\n",
              "      <td>0.015104</td>\n",
              "      <td>0.028071</td>\n",
              "      <td>0.048766</td>\n",
              "      <td>0.034196</td>\n",
              "      <td>27330</td>\n",
              "    </tr>\n",
              "    <tr>\n",
              "      <th>25</th>\n",
              "      <td>0.000000</td>\n",
              "      <td>0.003605</td>\n",
              "      <td>0.003333</td>\n",
              "      <td>0.003929</td>\n",
              "      <td>0.004748</td>\n",
              "      <td>0.003953</td>\n",
              "      <td>0.003125</td>\n",
              "      <td>0.002948</td>\n",
              "      <td>0.003211</td>\n",
              "      <td>0.003572</td>\n",
              "      <td>0.004747</td>\n",
              "      <td>0.007411</td>\n",
              "      <td>0.006066</td>\n",
              "      <td>11038</td>\n",
              "    </tr>\n",
              "    <tr>\n",
              "      <th>26</th>\n",
              "      <td>0.011494</td>\n",
              "      <td>0.028843</td>\n",
              "      <td>0.016667</td>\n",
              "      <td>0.014405</td>\n",
              "      <td>0.012346</td>\n",
              "      <td>0.011293</td>\n",
              "      <td>0.010313</td>\n",
              "      <td>0.012380</td>\n",
              "      <td>0.018597</td>\n",
              "      <td>0.025717</td>\n",
              "      <td>0.042102</td>\n",
              "      <td>0.065738</td>\n",
              "      <td>0.030353</td>\n",
              "      <td>52930</td>\n",
              "    </tr>\n",
              "    <tr>\n",
              "      <th>27</th>\n",
              "      <td>0.000000</td>\n",
              "      <td>0.000000</td>\n",
              "      <td>0.003333</td>\n",
              "      <td>0.005238</td>\n",
              "      <td>0.006648</td>\n",
              "      <td>0.006211</td>\n",
              "      <td>0.005313</td>\n",
              "      <td>0.004913</td>\n",
              "      <td>0.005218</td>\n",
              "      <td>0.007144</td>\n",
              "      <td>0.015713</td>\n",
              "      <td>0.025992</td>\n",
              "      <td>0.016840</td>\n",
              "      <td>9800</td>\n",
              "    </tr>\n",
              "    <tr>\n",
              "      <th>28</th>\n",
              "      <td>0.000000</td>\n",
              "      <td>0.007211</td>\n",
              "      <td>0.006667</td>\n",
              "      <td>0.006548</td>\n",
              "      <td>0.005698</td>\n",
              "      <td>0.005647</td>\n",
              "      <td>0.006875</td>\n",
              "      <td>0.011201</td>\n",
              "      <td>0.017928</td>\n",
              "      <td>0.041264</td>\n",
              "      <td>0.080982</td>\n",
              "      <td>0.100177</td>\n",
              "      <td>0.118966</td>\n",
              "      <td>12158</td>\n",
              "    </tr>\n",
              "    <tr>\n",
              "      <th>29</th>\n",
              "      <td>0.000000</td>\n",
              "      <td>0.000000</td>\n",
              "      <td>0.000000</td>\n",
              "      <td>0.000000</td>\n",
              "      <td>0.000950</td>\n",
              "      <td>0.001694</td>\n",
              "      <td>0.002188</td>\n",
              "      <td>0.003341</td>\n",
              "      <td>0.007358</td>\n",
              "      <td>0.010919</td>\n",
              "      <td>0.020214</td>\n",
              "      <td>0.042551</td>\n",
              "      <td>0.026016</td>\n",
              "      <td>50753</td>\n",
              "    </tr>\n",
              "    <tr>\n",
              "      <th>...</th>\n",
              "      <td>...</td>\n",
              "      <td>...</td>\n",
              "      <td>...</td>\n",
              "      <td>...</td>\n",
              "      <td>...</td>\n",
              "      <td>...</td>\n",
              "      <td>...</td>\n",
              "      <td>...</td>\n",
              "      <td>...</td>\n",
              "      <td>...</td>\n",
              "      <td>...</td>\n",
              "      <td>...</td>\n",
              "      <td>...</td>\n",
              "      <td>...</td>\n",
              "    </tr>\n",
              "    <tr>\n",
              "      <th>2470</th>\n",
              "      <td>0.015326</td>\n",
              "      <td>0.032449</td>\n",
              "      <td>0.016667</td>\n",
              "      <td>0.014405</td>\n",
              "      <td>0.012346</td>\n",
              "      <td>0.010164</td>\n",
              "      <td>0.009375</td>\n",
              "      <td>0.011594</td>\n",
              "      <td>0.019266</td>\n",
              "      <td>0.033988</td>\n",
              "      <td>0.052309</td>\n",
              "      <td>0.063295</td>\n",
              "      <td>0.014576</td>\n",
              "      <td>40076</td>\n",
              "    </tr>\n",
              "    <tr>\n",
              "      <th>2471</th>\n",
              "      <td>0.000000</td>\n",
              "      <td>0.000000</td>\n",
              "      <td>0.000000</td>\n",
              "      <td>0.000000</td>\n",
              "      <td>0.001899</td>\n",
              "      <td>0.002823</td>\n",
              "      <td>0.002813</td>\n",
              "      <td>0.002555</td>\n",
              "      <td>0.002141</td>\n",
              "      <td>0.001939</td>\n",
              "      <td>0.001800</td>\n",
              "      <td>0.001564</td>\n",
              "      <td>0.004961</td>\n",
              "      <td>1146</td>\n",
              "    </tr>\n",
              "    <tr>\n",
              "      <th>2472</th>\n",
              "      <td>0.000000</td>\n",
              "      <td>0.013809</td>\n",
              "      <td>0.008333</td>\n",
              "      <td>0.007858</td>\n",
              "      <td>0.007597</td>\n",
              "      <td>0.005647</td>\n",
              "      <td>0.005000</td>\n",
              "      <td>0.005895</td>\n",
              "      <td>0.008563</td>\n",
              "      <td>0.012231</td>\n",
              "      <td>0.020857</td>\n",
              "      <td>0.045215</td>\n",
              "      <td>0.049243</td>\n",
              "      <td>41221</td>\n",
              "    </tr>\n",
              "    <tr>\n",
              "      <th>2473</th>\n",
              "      <td>0.000000</td>\n",
              "      <td>0.000000</td>\n",
              "      <td>0.000000</td>\n",
              "      <td>0.000000</td>\n",
              "      <td>0.000000</td>\n",
              "      <td>0.000000</td>\n",
              "      <td>0.002188</td>\n",
              "      <td>0.004520</td>\n",
              "      <td>0.007225</td>\n",
              "      <td>0.009083</td>\n",
              "      <td>0.012685</td>\n",
              "      <td>0.021060</td>\n",
              "      <td>0.025572</td>\n",
              "      <td>66250</td>\n",
              "    </tr>\n",
              "    <tr>\n",
              "      <th>2474</th>\n",
              "      <td>0.000000</td>\n",
              "      <td>0.000000</td>\n",
              "      <td>0.000000</td>\n",
              "      <td>0.000000</td>\n",
              "      <td>0.000000</td>\n",
              "      <td>0.000000</td>\n",
              "      <td>0.000000</td>\n",
              "      <td>0.000000</td>\n",
              "      <td>0.000000</td>\n",
              "      <td>0.000000</td>\n",
              "      <td>0.000000</td>\n",
              "      <td>0.000000</td>\n",
              "      <td>0.000000</td>\n",
              "      <td>321484</td>\n",
              "    </tr>\n",
              "    <tr>\n",
              "      <th>2475</th>\n",
              "      <td>0.000000</td>\n",
              "      <td>0.000000</td>\n",
              "      <td>0.000000</td>\n",
              "      <td>0.000000</td>\n",
              "      <td>0.000000</td>\n",
              "      <td>0.000000</td>\n",
              "      <td>0.000000</td>\n",
              "      <td>0.000000</td>\n",
              "      <td>0.000000</td>\n",
              "      <td>0.000000</td>\n",
              "      <td>0.000000</td>\n",
              "      <td>0.000000</td>\n",
              "      <td>0.000000</td>\n",
              "      <td>18814</td>\n",
              "    </tr>\n",
              "    <tr>\n",
              "      <th>2476</th>\n",
              "      <td>0.000000</td>\n",
              "      <td>0.000000</td>\n",
              "      <td>0.000000</td>\n",
              "      <td>0.000000</td>\n",
              "      <td>0.000000</td>\n",
              "      <td>0.000000</td>\n",
              "      <td>0.000000</td>\n",
              "      <td>0.000000</td>\n",
              "      <td>0.000000</td>\n",
              "      <td>0.000000</td>\n",
              "      <td>0.000000</td>\n",
              "      <td>0.000000</td>\n",
              "      <td>0.000000</td>\n",
              "      <td>17862</td>\n",
              "    </tr>\n",
              "    <tr>\n",
              "      <th>2477</th>\n",
              "      <td>0.000000</td>\n",
              "      <td>0.000000</td>\n",
              "      <td>0.000000</td>\n",
              "      <td>0.000000</td>\n",
              "      <td>0.000000</td>\n",
              "      <td>0.000000</td>\n",
              "      <td>0.000000</td>\n",
              "      <td>0.000000</td>\n",
              "      <td>0.000000</td>\n",
              "      <td>0.000000</td>\n",
              "      <td>0.000000</td>\n",
              "      <td>0.000000</td>\n",
              "      <td>0.000000</td>\n",
              "      <td>164047</td>\n",
              "    </tr>\n",
              "    <tr>\n",
              "      <th>2478</th>\n",
              "      <td>0.000000</td>\n",
              "      <td>0.000000</td>\n",
              "      <td>0.000000</td>\n",
              "      <td>0.000000</td>\n",
              "      <td>0.001899</td>\n",
              "      <td>0.002823</td>\n",
              "      <td>0.003125</td>\n",
              "      <td>0.003341</td>\n",
              "      <td>0.004415</td>\n",
              "      <td>0.005613</td>\n",
              "      <td>0.008839</td>\n",
              "      <td>0.014544</td>\n",
              "      <td>0.018320</td>\n",
              "      <td>20203</td>\n",
              "    </tr>\n",
              "    <tr>\n",
              "      <th>2479</th>\n",
              "      <td>0.000000</td>\n",
              "      <td>0.000000</td>\n",
              "      <td>0.000000</td>\n",
              "      <td>0.000000</td>\n",
              "      <td>0.000000</td>\n",
              "      <td>0.000000</td>\n",
              "      <td>0.000000</td>\n",
              "      <td>0.000000</td>\n",
              "      <td>0.000000</td>\n",
              "      <td>0.000000</td>\n",
              "      <td>0.000000</td>\n",
              "      <td>0.000000</td>\n",
              "      <td>0.000000</td>\n",
              "      <td>11377</td>\n",
              "    </tr>\n",
              "    <tr>\n",
              "      <th>2480</th>\n",
              "      <td>0.000000</td>\n",
              "      <td>0.000000</td>\n",
              "      <td>0.000000</td>\n",
              "      <td>0.000000</td>\n",
              "      <td>0.000000</td>\n",
              "      <td>0.000000</td>\n",
              "      <td>0.000000</td>\n",
              "      <td>0.000000</td>\n",
              "      <td>0.000000</td>\n",
              "      <td>0.000000</td>\n",
              "      <td>0.000000</td>\n",
              "      <td>0.000000</td>\n",
              "      <td>0.000000</td>\n",
              "      <td>223735</td>\n",
              "    </tr>\n",
              "    <tr>\n",
              "      <th>2481</th>\n",
              "      <td>0.000000</td>\n",
              "      <td>0.014422</td>\n",
              "      <td>0.008333</td>\n",
              "      <td>0.009167</td>\n",
              "      <td>0.007597</td>\n",
              "      <td>0.006211</td>\n",
              "      <td>0.004375</td>\n",
              "      <td>0.003734</td>\n",
              "      <td>0.003612</td>\n",
              "      <td>0.003878</td>\n",
              "      <td>0.005156</td>\n",
              "      <td>0.008700</td>\n",
              "      <td>0.009873</td>\n",
              "      <td>5746</td>\n",
              "    </tr>\n",
              "    <tr>\n",
              "      <th>2482</th>\n",
              "      <td>0.000000</td>\n",
              "      <td>0.000000</td>\n",
              "      <td>0.000000</td>\n",
              "      <td>0.000000</td>\n",
              "      <td>0.000000</td>\n",
              "      <td>0.002259</td>\n",
              "      <td>0.002813</td>\n",
              "      <td>0.003144</td>\n",
              "      <td>0.003479</td>\n",
              "      <td>0.003470</td>\n",
              "      <td>0.004010</td>\n",
              "      <td>0.006360</td>\n",
              "      <td>0.017994</td>\n",
              "      <td>7264</td>\n",
              "    </tr>\n",
              "    <tr>\n",
              "      <th>2483</th>\n",
              "      <td>0.000000</td>\n",
              "      <td>0.000000</td>\n",
              "      <td>0.000000</td>\n",
              "      <td>0.000000</td>\n",
              "      <td>0.000000</td>\n",
              "      <td>0.000000</td>\n",
              "      <td>0.000000</td>\n",
              "      <td>0.000000</td>\n",
              "      <td>0.000000</td>\n",
              "      <td>0.000000</td>\n",
              "      <td>0.000000</td>\n",
              "      <td>0.000000</td>\n",
              "      <td>0.000000</td>\n",
              "      <td>23460</td>\n",
              "    </tr>\n",
              "    <tr>\n",
              "      <th>2484</th>\n",
              "      <td>0.000000</td>\n",
              "      <td>0.003605</td>\n",
              "      <td>0.003333</td>\n",
              "      <td>0.005238</td>\n",
              "      <td>0.004748</td>\n",
              "      <td>0.003953</td>\n",
              "      <td>0.003125</td>\n",
              "      <td>0.003144</td>\n",
              "      <td>0.005084</td>\n",
              "      <td>0.006327</td>\n",
              "      <td>0.011130</td>\n",
              "      <td>0.021508</td>\n",
              "      <td>0.011969</td>\n",
              "      <td>13580</td>\n",
              "    </tr>\n",
              "    <tr>\n",
              "      <th>2485</th>\n",
              "      <td>0.000000</td>\n",
              "      <td>0.000000</td>\n",
              "      <td>0.000000</td>\n",
              "      <td>0.000000</td>\n",
              "      <td>0.000000</td>\n",
              "      <td>0.000000</td>\n",
              "      <td>0.000000</td>\n",
              "      <td>0.000000</td>\n",
              "      <td>0.000000</td>\n",
              "      <td>0.000000</td>\n",
              "      <td>0.000000</td>\n",
              "      <td>0.000000</td>\n",
              "      <td>0.000000</td>\n",
              "      <td>9704</td>\n",
              "    </tr>\n",
              "    <tr>\n",
              "      <th>2486</th>\n",
              "      <td>0.000000</td>\n",
              "      <td>0.000000</td>\n",
              "      <td>0.000000</td>\n",
              "      <td>0.000000</td>\n",
              "      <td>0.000000</td>\n",
              "      <td>0.002823</td>\n",
              "      <td>0.004062</td>\n",
              "      <td>0.004716</td>\n",
              "      <td>0.005352</td>\n",
              "      <td>0.005919</td>\n",
              "      <td>0.006465</td>\n",
              "      <td>0.007819</td>\n",
              "      <td>0.022308</td>\n",
              "      <td>17022</td>\n",
              "    </tr>\n",
              "    <tr>\n",
              "      <th>2487</th>\n",
              "      <td>0.000000</td>\n",
              "      <td>0.000000</td>\n",
              "      <td>0.000000</td>\n",
              "      <td>0.000000</td>\n",
              "      <td>0.000000</td>\n",
              "      <td>0.000000</td>\n",
              "      <td>0.000000</td>\n",
              "      <td>0.000000</td>\n",
              "      <td>0.000000</td>\n",
              "      <td>0.000000</td>\n",
              "      <td>0.000000</td>\n",
              "      <td>0.000000</td>\n",
              "      <td>0.000000</td>\n",
              "      <td>19720</td>\n",
              "    </tr>\n",
              "    <tr>\n",
              "      <th>2488</th>\n",
              "      <td>0.000000</td>\n",
              "      <td>0.000000</td>\n",
              "      <td>0.000000</td>\n",
              "      <td>0.000000</td>\n",
              "      <td>0.000000</td>\n",
              "      <td>0.000000</td>\n",
              "      <td>0.000000</td>\n",
              "      <td>0.000000</td>\n",
              "      <td>0.000000</td>\n",
              "      <td>0.000000</td>\n",
              "      <td>0.000000</td>\n",
              "      <td>0.000000</td>\n",
              "      <td>0.000000</td>\n",
              "      <td>13566</td>\n",
              "    </tr>\n",
              "    <tr>\n",
              "      <th>2489</th>\n",
              "      <td>0.000000</td>\n",
              "      <td>0.000000</td>\n",
              "      <td>0.000000</td>\n",
              "      <td>0.000000</td>\n",
              "      <td>0.000000</td>\n",
              "      <td>0.000000</td>\n",
              "      <td>0.000000</td>\n",
              "      <td>0.000000</td>\n",
              "      <td>0.000000</td>\n",
              "      <td>0.000000</td>\n",
              "      <td>0.000000</td>\n",
              "      <td>0.000000</td>\n",
              "      <td>0.000000</td>\n",
              "      <td>23658</td>\n",
              "    </tr>\n",
              "    <tr>\n",
              "      <th>2490</th>\n",
              "      <td>0.000000</td>\n",
              "      <td>0.000000</td>\n",
              "      <td>0.000000</td>\n",
              "      <td>0.000000</td>\n",
              "      <td>0.000000</td>\n",
              "      <td>0.000000</td>\n",
              "      <td>0.000000</td>\n",
              "      <td>0.000000</td>\n",
              "      <td>0.000000</td>\n",
              "      <td>0.000000</td>\n",
              "      <td>0.000000</td>\n",
              "      <td>0.000000</td>\n",
              "      <td>0.000000</td>\n",
              "      <td>29950</td>\n",
              "    </tr>\n",
              "    <tr>\n",
              "      <th>2491</th>\n",
              "      <td>0.000000</td>\n",
              "      <td>0.000000</td>\n",
              "      <td>0.000000</td>\n",
              "      <td>0.000000</td>\n",
              "      <td>0.000000</td>\n",
              "      <td>0.000000</td>\n",
              "      <td>0.000000</td>\n",
              "      <td>0.000000</td>\n",
              "      <td>0.000000</td>\n",
              "      <td>0.000000</td>\n",
              "      <td>0.000000</td>\n",
              "      <td>0.000000</td>\n",
              "      <td>0.000000</td>\n",
              "      <td>167430</td>\n",
              "    </tr>\n",
              "    <tr>\n",
              "      <th>2492</th>\n",
              "      <td>0.026820</td>\n",
              "      <td>0.064898</td>\n",
              "      <td>0.036667</td>\n",
              "      <td>0.037978</td>\n",
              "      <td>0.038936</td>\n",
              "      <td>0.042349</td>\n",
              "      <td>0.041563</td>\n",
              "      <td>0.045589</td>\n",
              "      <td>0.068768</td>\n",
              "      <td>0.093009</td>\n",
              "      <td>0.112995</td>\n",
              "      <td>0.101737</td>\n",
              "      <td>0.020022</td>\n",
              "      <td>163690</td>\n",
              "    </tr>\n",
              "    <tr>\n",
              "      <th>2493</th>\n",
              "      <td>0.000000</td>\n",
              "      <td>0.000000</td>\n",
              "      <td>0.000000</td>\n",
              "      <td>0.000000</td>\n",
              "      <td>0.000000</td>\n",
              "      <td>0.000000</td>\n",
              "      <td>0.000000</td>\n",
              "      <td>0.000000</td>\n",
              "      <td>0.000000</td>\n",
              "      <td>0.000000</td>\n",
              "      <td>0.000000</td>\n",
              "      <td>0.000000</td>\n",
              "      <td>0.000000</td>\n",
              "      <td>9558</td>\n",
              "    </tr>\n",
              "    <tr>\n",
              "      <th>2494</th>\n",
              "      <td>0.000000</td>\n",
              "      <td>0.000000</td>\n",
              "      <td>0.000000</td>\n",
              "      <td>0.000000</td>\n",
              "      <td>0.000000</td>\n",
              "      <td>0.000000</td>\n",
              "      <td>0.000000</td>\n",
              "      <td>0.000000</td>\n",
              "      <td>0.000000</td>\n",
              "      <td>0.000000</td>\n",
              "      <td>0.000000</td>\n",
              "      <td>0.000000</td>\n",
              "      <td>0.000000</td>\n",
              "      <td>2516</td>\n",
              "    </tr>\n",
              "    <tr>\n",
              "      <th>2495</th>\n",
              "      <td>0.019157</td>\n",
              "      <td>0.039660</td>\n",
              "      <td>0.021667</td>\n",
              "      <td>0.019644</td>\n",
              "      <td>0.017094</td>\n",
              "      <td>0.014116</td>\n",
              "      <td>0.015000</td>\n",
              "      <td>0.029672</td>\n",
              "      <td>0.057650</td>\n",
              "      <td>0.085095</td>\n",
              "      <td>0.111381</td>\n",
              "      <td>0.126904</td>\n",
              "      <td>0.047573</td>\n",
              "      <td>202529</td>\n",
              "    </tr>\n",
              "    <tr>\n",
              "      <th>2496</th>\n",
              "      <td>0.000000</td>\n",
              "      <td>0.000000</td>\n",
              "      <td>0.000000</td>\n",
              "      <td>0.000000</td>\n",
              "      <td>0.000000</td>\n",
              "      <td>0.000000</td>\n",
              "      <td>0.000000</td>\n",
              "      <td>0.000000</td>\n",
              "      <td>0.005619</td>\n",
              "      <td>0.006021</td>\n",
              "      <td>0.006056</td>\n",
              "      <td>0.007090</td>\n",
              "      <td>0.019434</td>\n",
              "      <td>155793</td>\n",
              "    </tr>\n",
              "    <tr>\n",
              "      <th>2497</th>\n",
              "      <td>0.000000</td>\n",
              "      <td>0.000000</td>\n",
              "      <td>0.000000</td>\n",
              "      <td>0.000000</td>\n",
              "      <td>0.000000</td>\n",
              "      <td>0.000000</td>\n",
              "      <td>0.000000</td>\n",
              "      <td>0.000000</td>\n",
              "      <td>0.000000</td>\n",
              "      <td>0.000000</td>\n",
              "      <td>0.000000</td>\n",
              "      <td>0.000000</td>\n",
              "      <td>0.000000</td>\n",
              "      <td>14372</td>\n",
              "    </tr>\n",
              "    <tr>\n",
              "      <th>2498</th>\n",
              "      <td>0.000000</td>\n",
              "      <td>0.000000</td>\n",
              "      <td>0.000000</td>\n",
              "      <td>0.000000</td>\n",
              "      <td>0.000000</td>\n",
              "      <td>0.001129</td>\n",
              "      <td>0.000937</td>\n",
              "      <td>0.000983</td>\n",
              "      <td>0.001070</td>\n",
              "      <td>0.001123</td>\n",
              "      <td>0.001309</td>\n",
              "      <td>0.001616</td>\n",
              "      <td>0.008008</td>\n",
              "      <td>3593</td>\n",
              "    </tr>\n",
              "    <tr>\n",
              "      <th>2499</th>\n",
              "      <td>0.000000</td>\n",
              "      <td>0.003605</td>\n",
              "      <td>0.003333</td>\n",
              "      <td>0.003929</td>\n",
              "      <td>0.004748</td>\n",
              "      <td>0.003953</td>\n",
              "      <td>0.003125</td>\n",
              "      <td>0.002751</td>\n",
              "      <td>0.003077</td>\n",
              "      <td>0.003674</td>\n",
              "      <td>0.006302</td>\n",
              "      <td>0.012374</td>\n",
              "      <td>0.017804</td>\n",
              "      <td>13368</td>\n",
              "    </tr>\n",
              "  </tbody>\n",
              "</table>\n",
              "<p>2500 rows × 14 columns</p>\n",
              "</div>"
            ],
            "text/plain": [
              "            Q0        Q1     Q2pt5        Q5       Q10       Q25       Q50  \\\n",
              "0     0.000000  0.000000  0.000000  0.000000  0.000000  0.000000  0.000000   \n",
              "1     0.007663  0.028843  0.015000  0.014405  0.012346  0.010164  0.009375   \n",
              "2     0.038314  0.054081  0.026667  0.023573  0.018993  0.012987  0.009375   \n",
              "3     0.000000  0.010816  0.006667  0.006548  0.006648  0.006776  0.006562   \n",
              "4     0.000000  0.000000  0.000000  0.000000  0.000000  0.000000  0.000000   \n",
              "5     0.000000  0.000000  0.000000  0.000000  0.000000  0.000000  0.000000   \n",
              "6     0.011494  0.032449  0.016667  0.015715  0.012346  0.009599  0.007812   \n",
              "7     0.000000  0.000000  0.000000  0.007858  0.013295  0.017504  0.019375   \n",
              "8     0.000000  0.000000  0.000000  0.000000  0.000000  0.000000  0.000000   \n",
              "9     0.164751  0.252380  0.141667  0.150602  0.152896  0.173348  0.194219   \n",
              "10    0.045977  0.061292  0.033333  0.028811  0.022792  0.017504  0.013438   \n",
              "11    0.000000  0.000000  0.000000  0.000000  0.000000  0.000000  0.000000   \n",
              "12    0.000000  0.000000  0.000000  0.000000  0.000000  0.000000  0.000000   \n",
              "13    0.000000  0.018027  0.016667  0.018334  0.018993  0.018069  0.015625   \n",
              "14    0.000000  0.003605  0.008333  0.011786  0.013295  0.012422  0.011875   \n",
              "15    0.000000  0.014422  0.010000  0.009167  0.008547  0.007340  0.006875   \n",
              "16    0.000000  0.000000  0.000000  0.000000  0.000000  0.000000  0.000000   \n",
              "17    0.019157  0.039660  0.021667  0.019644  0.016144  0.012422  0.010000   \n",
              "18    0.022989  0.054081  0.030000  0.026912  0.022792  0.016940  0.014687   \n",
              "19    0.000000  0.000000  0.000000  0.000000  0.000000  0.000000  0.000000   \n",
              "20    0.000000  0.000000  0.000000  0.000000  0.000000  0.000000  0.000000   \n",
              "21    0.000000  0.000000  0.000000  0.000000  0.000000  0.000000  0.000000   \n",
              "22    0.000000  0.000000  0.000000  0.000000  0.000000  0.000000  0.000000   \n",
              "23    0.000000  0.000000  0.000000  0.000000  0.000000  0.000000  0.000000   \n",
              "24    0.026820  0.043265  0.023333  0.020953  0.017094  0.012422  0.009062   \n",
              "25    0.000000  0.003605  0.003333  0.003929  0.004748  0.003953  0.003125   \n",
              "26    0.011494  0.028843  0.016667  0.014405  0.012346  0.011293  0.010313   \n",
              "27    0.000000  0.000000  0.003333  0.005238  0.006648  0.006211  0.005313   \n",
              "28    0.000000  0.007211  0.006667  0.006548  0.005698  0.005647  0.006875   \n",
              "29    0.000000  0.000000  0.000000  0.000000  0.000950  0.001694  0.002188   \n",
              "...        ...       ...       ...       ...       ...       ...       ...   \n",
              "2470  0.015326  0.032449  0.016667  0.014405  0.012346  0.010164  0.009375   \n",
              "2471  0.000000  0.000000  0.000000  0.000000  0.001899  0.002823  0.002813   \n",
              "2472  0.000000  0.013809  0.008333  0.007858  0.007597  0.005647  0.005000   \n",
              "2473  0.000000  0.000000  0.000000  0.000000  0.000000  0.000000  0.002188   \n",
              "2474  0.000000  0.000000  0.000000  0.000000  0.000000  0.000000  0.000000   \n",
              "2475  0.000000  0.000000  0.000000  0.000000  0.000000  0.000000  0.000000   \n",
              "2476  0.000000  0.000000  0.000000  0.000000  0.000000  0.000000  0.000000   \n",
              "2477  0.000000  0.000000  0.000000  0.000000  0.000000  0.000000  0.000000   \n",
              "2478  0.000000  0.000000  0.000000  0.000000  0.001899  0.002823  0.003125   \n",
              "2479  0.000000  0.000000  0.000000  0.000000  0.000000  0.000000  0.000000   \n",
              "2480  0.000000  0.000000  0.000000  0.000000  0.000000  0.000000  0.000000   \n",
              "2481  0.000000  0.014422  0.008333  0.009167  0.007597  0.006211  0.004375   \n",
              "2482  0.000000  0.000000  0.000000  0.000000  0.000000  0.002259  0.002813   \n",
              "2483  0.000000  0.000000  0.000000  0.000000  0.000000  0.000000  0.000000   \n",
              "2484  0.000000  0.003605  0.003333  0.005238  0.004748  0.003953  0.003125   \n",
              "2485  0.000000  0.000000  0.000000  0.000000  0.000000  0.000000  0.000000   \n",
              "2486  0.000000  0.000000  0.000000  0.000000  0.000000  0.002823  0.004062   \n",
              "2487  0.000000  0.000000  0.000000  0.000000  0.000000  0.000000  0.000000   \n",
              "2488  0.000000  0.000000  0.000000  0.000000  0.000000  0.000000  0.000000   \n",
              "2489  0.000000  0.000000  0.000000  0.000000  0.000000  0.000000  0.000000   \n",
              "2490  0.000000  0.000000  0.000000  0.000000  0.000000  0.000000  0.000000   \n",
              "2491  0.000000  0.000000  0.000000  0.000000  0.000000  0.000000  0.000000   \n",
              "2492  0.026820  0.064898  0.036667  0.037978  0.038936  0.042349  0.041563   \n",
              "2493  0.000000  0.000000  0.000000  0.000000  0.000000  0.000000  0.000000   \n",
              "2494  0.000000  0.000000  0.000000  0.000000  0.000000  0.000000  0.000000   \n",
              "2495  0.019157  0.039660  0.021667  0.019644  0.017094  0.014116  0.015000   \n",
              "2496  0.000000  0.000000  0.000000  0.000000  0.000000  0.000000  0.000000   \n",
              "2497  0.000000  0.000000  0.000000  0.000000  0.000000  0.000000  0.000000   \n",
              "2498  0.000000  0.000000  0.000000  0.000000  0.000000  0.001129  0.000937   \n",
              "2499  0.000000  0.003605  0.003333  0.003929  0.004748  0.003953  0.003125   \n",
              "\n",
              "           Q75       Q90       Q95    Q97pt5       Q99      Q100  \\\n",
              "0     0.000000  0.000000  0.000000  0.000000  0.000000  0.000000   \n",
              "1     0.014148  0.025286  0.041943  0.084918  0.098937  0.043231   \n",
              "2     0.009039  0.010971  0.013910  0.025505  0.036912  0.019316   \n",
              "3     0.009236  0.012309  0.015308  0.024014  0.043339  0.092121   \n",
              "4     0.000000  0.000000  0.000000  0.000000  0.000000  0.000000   \n",
              "5     0.000000  0.000000  0.000000  0.000000  0.000000  0.000000   \n",
              "6     0.008646  0.011238  0.017043  0.035518  0.069913  0.200979   \n",
              "7     0.025349  0.046291  0.083580  0.121449  0.153746  0.032000   \n",
              "8     0.000000  0.000000  0.000000  0.000000  0.000000  0.000000   \n",
              "9     0.388043  0.661123  0.680171  0.652309  0.490320  0.067513   \n",
              "10    0.013362  0.015252  0.020094  0.031187  0.048125  0.021928   \n",
              "11    0.000000  0.000000  0.000000  0.000000  0.000000  0.000000   \n",
              "12    0.000000  0.000000  0.000000  0.000000  0.000000  0.000000   \n",
              "13    0.017882  0.023012  0.035310  0.061367  0.092880  0.024526   \n",
              "14    0.014148  0.020309  0.027656  0.042450  0.047940  0.025391   \n",
              "15    0.008253  0.012041  0.018267  0.027958  0.040614  0.016401   \n",
              "16    0.000000  0.000000  0.000000  0.000000  0.000000  0.000000   \n",
              "17    0.010415  0.014048  0.019767  0.034782  0.054604  0.021711   \n",
              "18    0.019847  0.046158  0.079396  0.101317  0.106335  0.036088   \n",
              "19    0.000000  0.000000  0.000000  0.000000  0.000000  0.000000   \n",
              "20    0.000000  0.000000  0.000000  0.000000  0.000000  0.000000   \n",
              "21    0.001572  0.002274  0.002653  0.003192  0.004264  0.010797   \n",
              "22    0.000000  0.000000  0.000000  0.000000  0.000000  0.000000   \n",
              "23    0.000000  0.000000  0.000000  0.000000  0.000000  0.000000   \n",
              "24    0.008843  0.011105  0.015104  0.028071  0.048766  0.034196   \n",
              "25    0.002948  0.003211  0.003572  0.004747  0.007411  0.006066   \n",
              "26    0.012380  0.018597  0.025717  0.042102  0.065738  0.030353   \n",
              "27    0.004913  0.005218  0.007144  0.015713  0.025992  0.016840   \n",
              "28    0.011201  0.017928  0.041264  0.080982  0.100177  0.118966   \n",
              "29    0.003341  0.007358  0.010919  0.020214  0.042551  0.026016   \n",
              "...        ...       ...       ...       ...       ...       ...   \n",
              "2470  0.011594  0.019266  0.033988  0.052309  0.063295  0.014576   \n",
              "2471  0.002555  0.002141  0.001939  0.001800  0.001564  0.004961   \n",
              "2472  0.005895  0.008563  0.012231  0.020857  0.045215  0.049243   \n",
              "2473  0.004520  0.007225  0.009083  0.012685  0.021060  0.025572   \n",
              "2474  0.000000  0.000000  0.000000  0.000000  0.000000  0.000000   \n",
              "2475  0.000000  0.000000  0.000000  0.000000  0.000000  0.000000   \n",
              "2476  0.000000  0.000000  0.000000  0.000000  0.000000  0.000000   \n",
              "2477  0.000000  0.000000  0.000000  0.000000  0.000000  0.000000   \n",
              "2478  0.003341  0.004415  0.005613  0.008839  0.014544  0.018320   \n",
              "2479  0.000000  0.000000  0.000000  0.000000  0.000000  0.000000   \n",
              "2480  0.000000  0.000000  0.000000  0.000000  0.000000  0.000000   \n",
              "2481  0.003734  0.003612  0.003878  0.005156  0.008700  0.009873   \n",
              "2482  0.003144  0.003479  0.003470  0.004010  0.006360  0.017994   \n",
              "2483  0.000000  0.000000  0.000000  0.000000  0.000000  0.000000   \n",
              "2484  0.003144  0.005084  0.006327  0.011130  0.021508  0.011969   \n",
              "2485  0.000000  0.000000  0.000000  0.000000  0.000000  0.000000   \n",
              "2486  0.004716  0.005352  0.005919  0.006465  0.007819  0.022308   \n",
              "2487  0.000000  0.000000  0.000000  0.000000  0.000000  0.000000   \n",
              "2488  0.000000  0.000000  0.000000  0.000000  0.000000  0.000000   \n",
              "2489  0.000000  0.000000  0.000000  0.000000  0.000000  0.000000   \n",
              "2490  0.000000  0.000000  0.000000  0.000000  0.000000  0.000000   \n",
              "2491  0.000000  0.000000  0.000000  0.000000  0.000000  0.000000   \n",
              "2492  0.045589  0.068768  0.093009  0.112995  0.101737  0.020022   \n",
              "2493  0.000000  0.000000  0.000000  0.000000  0.000000  0.000000   \n",
              "2494  0.000000  0.000000  0.000000  0.000000  0.000000  0.000000   \n",
              "2495  0.029672  0.057650  0.085095  0.111381  0.126904  0.047573   \n",
              "2496  0.000000  0.005619  0.006021  0.006056  0.007090  0.019434   \n",
              "2497  0.000000  0.000000  0.000000  0.000000  0.000000  0.000000   \n",
              "2498  0.000983  0.001070  0.001123  0.001309  0.001616  0.008008   \n",
              "2499  0.002751  0.003077  0.003674  0.006302  0.012374  0.017804   \n",
              "\n",
              "      POPESTIMATE2015  \n",
              "0               72498  \n",
              "1               58847  \n",
              "2               21186  \n",
              "3                6815  \n",
              "4                9227  \n",
              "5               10671  \n",
              "6               48170  \n",
              "7               67607  \n",
              "8               42562  \n",
              "9              239665  \n",
              "10              17951  \n",
              "11              25790  \n",
              "12              20766  \n",
              "13              68500  \n",
              "14              45049  \n",
              "15              30116  \n",
              "16               4996  \n",
              "17              22437  \n",
              "18              46255  \n",
              "19              30083  \n",
              "20               2673  \n",
              "21              11338  \n",
              "22              80651  \n",
              "23              18736  \n",
              "24              27330  \n",
              "25              11038  \n",
              "26              52930  \n",
              "27               9800  \n",
              "28              12158  \n",
              "29              50753  \n",
              "...               ...  \n",
              "2470            40076  \n",
              "2471             1146  \n",
              "2472            41221  \n",
              "2473            66250  \n",
              "2474           321484  \n",
              "2475            18814  \n",
              "2476            17862  \n",
              "2477           164047  \n",
              "2478            20203  \n",
              "2479            11377  \n",
              "2480           223735  \n",
              "2481             5746  \n",
              "2482             7264  \n",
              "2483            23460  \n",
              "2484            13580  \n",
              "2485             9704  \n",
              "2486            17022  \n",
              "2487            19720  \n",
              "2488            13566  \n",
              "2489            23658  \n",
              "2490            29950  \n",
              "2491           167430  \n",
              "2492           163690  \n",
              "2493             9558  \n",
              "2494             2516  \n",
              "2495           202529  \n",
              "2496           155793  \n",
              "2497            14372  \n",
              "2498             3593  \n",
              "2499            13368  \n",
              "\n",
              "[2500 rows x 14 columns]"
            ]
          },
          "metadata": {
            "tags": []
          },
          "execution_count": 230
        }
      ]
    },
    {
      "metadata": {
        "id": "b3gr7uFo_q48",
        "colab_type": "text"
      },
      "cell_type": "markdown",
      "source": [
        "#PCA"
      ]
    },
    {
      "metadata": {
        "id": "cuuYB9l__r-g",
        "colab_type": "code",
        "colab": {
          "base_uri": "https://localhost:8080/",
          "height": 395
        },
        "outputId": "caf52f1f-a7e1-4e93-9393-c288298aab1e"
      },
      "cell_type": "code",
      "source": [
        "#loading PCA from sklearn\n",
        "from sklearn.decomposition import PCA\n",
        "#Defining a PCA instance with 6 components\n",
        "pca = PCA(n_components=6)\n",
        "#fitting PCA on the scaled dataset\n",
        "principalComponents = pca.fit_transform(scaled_data.iloc[:,0:13])\n",
        "#storing the principal components in a DataFrame\n",
        "principalDf = pd.DataFrame(data = principalComponents)\n",
        "\n",
        "#Amount of variance explained\n",
        "print(pca.explained_variance_ratio_)\n",
        "\n",
        "#ploting cumulative variance explained vs number of components\n",
        "plt.plot(np.cumsum(pca.explained_variance_ratio_))\n",
        "plt.xlabel('number of components')\n",
        "plt.ylabel('cumulative explained variance')"
      ],
      "execution_count": 231,
      "outputs": [
        {
          "output_type": "stream",
          "text": [
            "[0.81544705 0.10912171 0.03584632 0.02152074 0.00913169 0.00419428]\n"
          ],
          "name": "stdout"
        },
        {
          "output_type": "execute_result",
          "data": {
            "text/plain": [
              "Text(0, 0.5, 'cumulative explained variance')"
            ]
          },
          "metadata": {
            "tags": []
          },
          "execution_count": 231
        },
        {
          "output_type": "display_data",
          "data": {
            "image/png": "[encoded data removed]",
            "text/plain": [
              "<Figure size 576x396 with 1 Axes>"
            ]
          },
          "metadata": {
            "tags": []
          }
        }
      ]
    },
    {
      "metadata": {
        "id": "1wsYEosbpCA7",
        "colab_type": "text"
      },
      "cell_type": "markdown",
      "source": [
        "The first 4 components explain 98.1% of the variance in the dataset. Thus we can reduce the dimensionality of the dataset and make predicitions with just the first 4 principle components. "
      ]
    },
    {
      "metadata": {
        "id": "TugghlFS3-aM",
        "colab_type": "text"
      },
      "cell_type": "markdown",
      "source": [
        "#Creating a dataframe with the chosen principal components"
      ]
    },
    {
      "metadata": {
        "id": "OiV2QE5u3-zV",
        "colab_type": "code",
        "colab": {
          "base_uri": "https://localhost:8080/",
          "height": 119
        },
        "outputId": "53f8b71a-84e7-4d76-ad94-1db04480e873"
      },
      "cell_type": "code",
      "source": [
        "pc_data = principalDf.iloc[:,0:4] #selecting four principal components\n",
        "pc_data['POPESTIMATE2015'] = data.POPESTIMATE2015 # appending population estimate\n"
      ],
      "execution_count": 232,
      "outputs": [
        {
          "output_type": "stream",
          "text": [
            "/usr/local/lib/python3.6/dist-packages/ipykernel_launcher.py:2: SettingWithCopyWarning: \n",
            "A value is trying to be set on a copy of a slice from a DataFrame.\n",
            "Try using .loc[row_indexer,col_indexer] = value instead\n",
            "\n",
            "See the caveats in the documentation: http://pandas.pydata.org/pandas-docs/stable/indexing.html#indexing-view-versus-copy\n",
            "  \n"
          ],
          "name": "stderr"
        }
      ]
    },
    {
      "metadata": {
        "id": "Ys7FdF8cd5Hi",
        "colab_type": "text"
      },
      "cell_type": "markdown",
      "source": [
        "#Cross Validation"
      ]
    },
    {
      "metadata": {
        "id": "UudBFP3EPWVR",
        "colab_type": "code",
        "colab": {}
      },
      "cell_type": "code",
      "source": [
        "#identifying the split points to split the dataframe\n",
        "def split_dataframe(data, folds) :\n",
        "    splitPoints = list(map( lambda x: int(x*len(data)/folds), (list(range(1,folds)))))     \n",
        "    splits = list(np.split(data.sample(frac=1), splitPoints)) # storing the split points in the dataframe\n",
        "    return splits\n",
        "#generating the training and test sets\n",
        "def train_test_set(splits, index) :\n",
        "    test = splits[index] # generating test set based on indices\n",
        "    left = splits[:index] # first half of training set\n",
        "    right = splits[index+1:] #second half of training set\n",
        "    train = pd.concat(left+right) #concatenating the two datasets\n",
        "    return train, test"
      ],
      "execution_count": 0,
      "outputs": []
    },
    {
      "metadata": {
        "id": "4taAzOMpRTov",
        "colab_type": "code",
        "colab": {}
      },
      "cell_type": "code",
      "source": [
        "from sklearn.metrics import mean_absolute_error\n",
        "\n",
        "#initializing variables\n",
        "test_mape = list()\n",
        "train_mape = list()\n",
        "test_mae = list()\n",
        "train_mae = list()\n",
        "train_MAE = list()\n",
        "test_MAE = list()\n",
        "train_MAPE = list()\n",
        "test_MAPE = list()\n",
        "metrics = []\n",
        "\n",
        "#initializing a dataframe\n",
        "metric_table = pd.DataFrame(columns=['Train MAE(sd)','Test MAE(sd)','Train MAPE(sd)','Test MAPE(sd)','Model'])\n",
        "\n",
        "#function to make predictions on the dataset\n",
        "def predict(model,test_dataset,test_y_values,train_dataset,train_y_values,model_name):\n",
        "  test_predictions = model.predict(test_dataset) # predictions on test set\n",
        "  train_predictions = model.predict(train_dataset) # predictions on training set\n",
        "  test_mape,test_mae = compute_metrics(test_y_values,test_predictions) # calling compute metrics to gather mae and mape\n",
        "  train_mape,train_mae = compute_metrics(train_y_values,train_predictions)\n",
        "  return train_mae,test_mae,train_mape,test_mape \n",
        "\n",
        "#compute the MAPE and MAE\n",
        "def compute_metrics(actual_values,data_predictions):\n",
        "  mape = list()\n",
        "  mae = list()\n",
        "  #mape \n",
        "  mape.append(mean_absolute_percentage_error(actual_values,data_predictions)) \n",
        "  #mae\n",
        "  mae.append(mean_absolute_error(actual_values,data_predictions))\n",
        "  return mape,mae\n",
        "  \n",
        "#computing the standard deviation of metrics\n",
        "def compute_sd_of_metrics(train_mae,test_mae,train_mape,test_mape,model_name):\n",
        "  train_mae_sd = np.std(train_mae) # computing the standard deviation\n",
        "  train_mape_sd = np.std(train_mape)\n",
        "  test_mae_sd = np.std(test_mae)\n",
        "  test_mape_sd = np.std(test_mape)\n",
        "  metrics.append(pd.Series([train_mae_sd, test_mae_sd, train_mape_sd, test_mape_sd,model_name])) # appending values to a list\n",
        "  return metrics\n",
        "  \n",
        "#10 fold cross validation\n",
        "def cross_validation(model,model_name):\n",
        "  folds = 10\n",
        "  splits = split_dataframe(pc_data, folds) # invoking split_dataframe to fetch split points\n",
        "  train_test_data = [] \n",
        "  #generating the train and test sets based on the splits\n",
        "  for i in range(0,folds) :\n",
        "    train_test_data.append(train_test_set(splits, i))\n",
        "\n",
        "  #running the model for the 10 different folds  \n",
        "  for i in range(0,folds):\n",
        "    train = train_test_data[i][1] #accessing training set\n",
        "    test = train_test_data[i][0] # accessing test set\n",
        "    train_X = train.iloc[:,0:4] # fetching features - training set\n",
        "    train_Y = train.POPESTIMATE2015 # fetching target - training set\n",
        "    test_X = test.iloc[:,0:4] # fetching features - test set\n",
        "    test_Y = test.POPESTIMATE2015 # fetching target - test set\n",
        "    model.fit(train_X, train_Y) # fitting the model\n",
        "    train_mae,test_mae,train_mape,test_mape = predict(model,test_X,test_Y, train_X , train_Y, model_name) # invoking predict function to make predictions\n",
        "    #appending values to the variables\n",
        "    train_MAE.append(train_mae) \n",
        "    test_MAE.append(test_mae)\n",
        "    train_MAPE.append(train_mape)\n",
        "    test_MAPE.append(test_mape)\n",
        "  metrics = pd.DataFrame(compute_sd_of_metrics(train_MAE,test_MAE,train_MAPE,test_MAPE,model_name)) # computing sd of metrics\n",
        "  metric_summary = pd.DataFrame(metrics.values,columns= metric_table.columns) # generating the summary table\n",
        "  print(metric_summary.head())\n",
        "    \n"
      ],
      "execution_count": 0,
      "outputs": []
    },
    {
      "metadata": {
        "id": "E7E4T7x5c1rT",
        "colab_type": "text"
      },
      "cell_type": "markdown",
      "source": [
        "#Mean Absolute Percentage Error"
      ]
    },
    {
      "metadata": {
        "id": "cgM31p1cc38a",
        "colab_type": "code",
        "colab": {}
      },
      "cell_type": "code",
      "source": [
        "# Function to compute the mean absolute percentage error\n",
        "def mean_absolute_percentage_error(actual, predicted): \n",
        "    return np.mean(np.abs((actual - predicted) / actual)) * 100"
      ],
      "execution_count": 0,
      "outputs": []
    },
    {
      "metadata": {
        "id": "7RDaiNzXFj1q",
        "colab_type": "text"
      },
      "cell_type": "markdown",
      "source": [
        "#Linear Regression"
      ]
    },
    {
      "metadata": {
        "id": "7iKd8gxjCV69",
        "colab_type": "code",
        "outputId": "f12f72bb-e232-4440-d755-ac375f047b5e",
        "colab": {
          "base_uri": "https://localhost:8080/",
          "height": 51
        }
      },
      "cell_type": "code",
      "source": [
        "#importing the necessary libraries\n",
        "from sklearn import linear_model\n",
        "\n",
        "#Creating Linear Regression model\n",
        "model = linear_model.LinearRegression()\n",
        "cross_validation(model,'Linear Regression')\n",
        "\n"
      ],
      "execution_count": 236,
      "outputs": [
        {
          "output_type": "stream",
          "text": [
            "  Train MAE(sd) Test MAE(sd) Train MAPE(sd) Test MAPE(sd)              Model\n",
            "0       38771.8      31324.1        386.353       323.759  Linear Regression\n"
          ],
          "name": "stdout"
        }
      ]
    },
    {
      "metadata": {
        "id": "14PI1DO5E8WP",
        "colab_type": "text"
      },
      "cell_type": "markdown",
      "source": [
        "#Random Forest"
      ]
    },
    {
      "metadata": {
        "id": "4-BB826yE-qI",
        "colab_type": "code",
        "outputId": "ac33eb7f-a4ce-4a1f-e468-e2961ee183cf",
        "colab": {
          "base_uri": "https://localhost:8080/",
          "height": 68
        }
      },
      "cell_type": "code",
      "source": [
        "# Load scikit's random forest regressor library\n",
        "from sklearn.ensemble import RandomForestRegressor\n",
        "model = RandomForestRegressor(max_depth=2, random_state=0,n_estimators=100)\n",
        "cross_validation(model,'Random Forest')\n"
      ],
      "execution_count": 237,
      "outputs": [
        {
          "output_type": "stream",
          "text": [
            "  Train MAE(sd) Test MAE(sd) Train MAPE(sd) Test MAPE(sd)              Model\n",
            "0       38771.8      31324.1        386.353       323.759  Linear Regression\n",
            "1       35835.2      24899.8        428.878       395.093      Random Forest\n"
          ],
          "name": "stdout"
        }
      ]
    },
    {
      "metadata": {
        "id": "555LnFvVKboD",
        "colab_type": "text"
      },
      "cell_type": "markdown",
      "source": [
        "#GBM"
      ]
    },
    {
      "metadata": {
        "id": "ic7VEW3hKb-6",
        "colab_type": "code",
        "outputId": "7cba7aba-6925-4f5d-b9ab-a699c8cdca65",
        "colab": {
          "base_uri": "https://localhost:8080/",
          "height": 85
        }
      },
      "cell_type": "code",
      "source": [
        "from sklearn.ensemble import GradientBoostingRegressor\n",
        "from sklearn.metrics import mean_absolute_error\n",
        "model = GradientBoostingRegressor()\n",
        "cross_validation(model,\"GBM\")"
      ],
      "execution_count": 238,
      "outputs": [
        {
          "output_type": "stream",
          "text": [
            "  Train MAE(sd) Test MAE(sd) Train MAPE(sd) Test MAPE(sd)              Model\n",
            "0       38771.8      31324.1        386.353       323.759  Linear Regression\n",
            "1       35835.2      24899.8        428.878       395.093      Random Forest\n",
            "2       35941.8      21841.6         375.01       390.652                GBM\n"
          ],
          "name": "stdout"
        }
      ]
    },
    {
      "metadata": {
        "id": "SsmCvX0sLofL",
        "colab_type": "text"
      },
      "cell_type": "markdown",
      "source": [
        "#Worst Predicted Counties"
      ]
    },
    {
      "metadata": {
        "id": "g84r7BF3LsRq",
        "colab_type": "code",
        "colab": {
          "base_uri": "https://localhost:8080/",
          "height": 884
        },
        "outputId": "1150db72-c115-44b8-c582-de512a386e10"
      },
      "cell_type": "code",
      "source": [
        "#train test split\n",
        "#Generating a 70 - 30 split\n",
        "data_Y_train = data.POPESTIMATE2015[:-750]\n",
        "data_Y_test = data.POPESTIMATE2015[-750:]\n",
        "\n",
        "data_X_train = data_scaled[:-750]\n",
        "data_X_test = data_scaled[-750:]\n",
        "\n",
        "#linear regression\n",
        "regr = linear_model.LinearRegression()\n",
        "#fitting data to the model\n",
        "regr.fit(data_X_train, data_Y_train)\n",
        "#generating predictions\n",
        "predictions = regr.predict(data_X_test)\n",
        "\n",
        "#finding AE to identify the 50 worst predicted counties\n",
        "ae = abs(predictions - data_Y_test)\n",
        "worst_predicted_counties = data  \n",
        "worst_predicted_counties['AE'] =  ae\n",
        "#higher value of AE indicates bad predictions\n",
        "worst_counties = worst_predicted_counties.nlargest(50,'AE') \n",
        "worst_counties.CTYNAME \n"
      ],
      "execution_count": 239,
      "outputs": [
        {
          "output_type": "execute_result",
          "data": {
            "text/plain": [
              "1980                     Cook\n",
              "1889                    Kings\n",
              "1997                   Queens\n",
              "2413                    Wayne\n",
              "1920                 New York\n",
              "1996                    Bronx\n",
              "2310                   Orange\n",
              "1902                 Cuyahoga\n",
              "2057                 Hennepin\n",
              "2034                   Fresno\n",
              "2416                     Pima\n",
              "1868              Westchester\n",
              "1937                Milwaukee\n",
              "2242                Fairfield\n",
              "1760                   Bergen\n",
              "2450                   DuPage\n",
              "2429                  Tarrant\n",
              "2341                     Kern\n",
              "2027                   Macomb\n",
              "1793                   Pierce\n",
              "2001                Middlesex\n",
              "2362                Worcester\n",
              "2031               Montgomery\n",
              "2432              Norton city\n",
              "2464                   DeKalb\n",
              "1877                  Clayton\n",
              "2214                  Norfolk\n",
              "1887            San Francisco\n",
              "2205                Culberson\n",
              "2366                   Denver\n",
              "2003    Colonial Heights city\n",
              "1814                  El Paso\n",
              "2458               Salem city\n",
              "1767               Providence\n",
              "1817                 Arapahoe\n",
              "2376                  Pulaski\n",
              "2319                    Bucks\n",
              "1795                   Nueces\n",
              "2195                Galveston\n",
              "2052                 Hamilton\n",
              "1981                Lancaster\n",
              "2167                     Dane\n",
              "2401                   Clarke\n",
              "2144      Fredericksburg city\n",
              "2289            Franklin city\n",
              "2257                 Plymouth\n",
              "2215                San Mateo\n",
              "2298           Covington city\n",
              "2271                 Harrison\n",
              "2358                    Lucas\n",
              "Name: CTYNAME, dtype: object"
            ]
          },
          "metadata": {
            "tags": []
          },
          "execution_count": 239
        }
      ]
    },
    {
      "metadata": {
        "id": "9ZqAY7fqUfxo",
        "colab_type": "text"
      },
      "cell_type": "markdown",
      "source": [
        "#Box Plots for counties in CA, TX and FL"
      ]
    },
    {
      "metadata": {
        "id": "VRbLJBex2YzE",
        "colab_type": "text"
      },
      "cell_type": "markdown",
      "source": [
        "##Linear regression "
      ]
    },
    {
      "metadata": {
        "id": "CoRE0mv2fVlD",
        "colab_type": "code",
        "colab": {}
      },
      "cell_type": "code",
      "source": [
        "def linear_regression(data_train,data_test):\n",
        "  #generating train test set \n",
        "  data_Y_train = data_train.POPESTIMATE2015\n",
        "  data_Y_test = data_test.POPESTIMATE2015\n",
        "\n",
        "  data_X_train = data_train.iloc[:,1:14]\n",
        "  data_X_test = data_test.iloc[:,1:14]\n",
        "  \n",
        "  regr = linear_model.LinearRegression()\n",
        "  regr.fit(data_X_train, data_Y_train)\n",
        "  \n",
        "  predictions = regr.predict(data_X_test)\n",
        "  ae,ape = compute_metrics(data_Y_test,predictions)\n",
        "  \n",
        "  data_test['AE'] = ae\n",
        "  data_test['APE'] = ape\n",
        "  \n",
        "  return data_test"
      ],
      "execution_count": 0,
      "outputs": []
    },
    {
      "metadata": {
        "id": "khNKUyov2T4u",
        "colab_type": "text"
      },
      "cell_type": "markdown",
      "source": [
        "##Compute performance metrics"
      ]
    },
    {
      "metadata": {
        "id": "GHR_noQoiRfW",
        "colab_type": "code",
        "colab": {}
      },
      "cell_type": "code",
      "source": [
        "#computing mae and mape\n",
        "def compute_metrics(data_Y_test,predictions):\n",
        "  ae = abs(data_Y_test - predictions)\n",
        "  ape = (abs(data_Y_test - predictions)/data_Y_test)*100\n",
        "  return ae,ape"
      ],
      "execution_count": 0,
      "outputs": []
    },
    {
      "metadata": {
        "id": "BCtq4DcI2RFy",
        "colab_type": "text"
      },
      "cell_type": "markdown",
      "source": [
        "##Generate Box Plots"
      ]
    },
    {
      "metadata": {
        "id": "1YIP0dwkj8Ly",
        "colab_type": "code",
        "colab": {}
      },
      "cell_type": "code",
      "source": [
        "#generating box plots for the counties in the 3 states\n",
        "def box_plot(Counties):\n",
        "  for i in range(3):\n",
        "    box_plot = pd.DataFrame()\n",
        "    box_plot['AE'] = Counties[i]['AE'] \n",
        "    box_plot['APE'] = Counties[i]['APE']\n",
        "\n",
        "    fig, axs = plt.subplots(ncols=3)\n",
        "    box_plot =sns.boxplot(data = box_plot, orient='V',palette = \"Set1\" , linewidth = 1.5,ax=axs[i],showfliers= False)\n",
        "    box_plot.set_yscale('log')"
      ],
      "execution_count": 0,
      "outputs": []
    },
    {
      "metadata": {
        "id": "7o6cxOgZ2wYF",
        "colab_type": "text"
      },
      "cell_type": "markdown",
      "source": [
        "##Predictions on California, Texas and Florida"
      ]
    },
    {
      "metadata": {
        "id": "JWf_ZCbbUjdG",
        "colab_type": "code",
        "colab": {
          "base_uri": "https://localhost:8080/",
          "height": 1257
        },
        "outputId": "defab286-1929-4507-c17c-046c414007d2"
      },
      "cell_type": "code",
      "source": [
        "data_test =  data[(data.STNAME == 'California') | (data.STNAME == 'Texas')  | (data.STNAME == 'Florida') ] # fetching CA, TX and FL and using it as test set\n",
        "data_train =  data[(data.STNAME != 'California') & (data.STNAME != 'Texas')  & (data.STNAME != 'Florida') ] # fetching all states except CA,TX and FL to be used as training set\n",
        "\n",
        "#invoking linear regression model\n",
        "data_test = linear_regression(data_train,data_test)\n",
        "\n",
        "#state list\n",
        "\n",
        "#dataframes for each state\n",
        "california = data_test[(data_test.STNAME == 'California')]\n",
        "texas = data_test[(data_test.STNAME == 'Texas')]\n",
        "florida = data_test[(data_test.STNAME == 'Florida')]\n",
        "\n",
        "state_list =[california,texas,florida]\n",
        "\n",
        "#plotting box plots for each state\n",
        "box_plot(state_list)"
      ],
      "execution_count": 243,
      "outputs": [
        {
          "output_type": "stream",
          "text": [
            "/usr/local/lib/python3.6/dist-packages/ipykernel_launcher.py:15: SettingWithCopyWarning: \n",
            "A value is trying to be set on a copy of a slice from a DataFrame.\n",
            "Try using .loc[row_indexer,col_indexer] = value instead\n",
            "\n",
            "See the caveats in the documentation: http://pandas.pydata.org/pandas-docs/stable/indexing.html#indexing-view-versus-copy\n",
            "  from ipykernel import kernelapp as app\n",
            "/usr/local/lib/python3.6/dist-packages/ipykernel_launcher.py:16: SettingWithCopyWarning: \n",
            "A value is trying to be set on a copy of a slice from a DataFrame.\n",
            "Try using .loc[row_indexer,col_indexer] = value instead\n",
            "\n",
            "See the caveats in the documentation: http://pandas.pydata.org/pandas-docs/stable/indexing.html#indexing-view-versus-copy\n",
            "  app.launch_new_instance()\n",
            "/usr/local/lib/python3.6/dist-packages/seaborn/categorical.py:454: FutureWarning: remove_na is deprecated and is a private function. Do not use.\n",
            "  box_data = remove_na(group_data)\n"
          ],
          "name": "stderr"
        },
        {
          "output_type": "display_data",
          "data": {
            "image/png": "[encoded data removed]",
            "text/plain": [
              "<Figure size 576x396 with 3 Axes>"
            ]
          },
          "metadata": {
            "tags": []
          }
        },
        {
          "output_type": "display_data",
          "data": {
            "image/png": "[encoded data removed]",
            "text/plain": [
              "<Figure size 576x396 with 3 Axes>"
            ]
          },
          "metadata": {
            "tags": []
          }
        },
        {
          "output_type": "display_data",
          "data": {
            "image/png": "[encoded data removed]",
            "text/plain": [
              "<Figure size 576x396 with 3 Axes>"
            ]
          },
          "metadata": {
            "tags": []
          }
        }
      ]
    },
    {
      "metadata": {
        "id": "a2Pu5KDdFJL3",
        "colab_type": "text"
      },
      "cell_type": "markdown",
      "source": [
        "MAE is high for California\n",
        "MAPE is high for Texas\n",
        "\n",
        "Texas has population varying from 119 to 4551362. Given that AE is small for counties in Texas, the high variance in APE can be explained by the wide population range. This resonates with the APE box plot for Texas.\n",
        "\n",
        "The AE indicates how big an error we can expect on the forecasted predictions. As is evident from the box plots, California has the maximum AE. This is because 76.8% of the counties have no NTL data captured. Texas on the other hand has brightness values for all counties and as expected a small value for AE. "
      ]
    }
  ]
}
